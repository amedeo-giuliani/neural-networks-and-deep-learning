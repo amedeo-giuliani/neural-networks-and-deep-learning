{
 "cells": [
  {
   "cell_type": "markdown",
   "metadata": {
    "id": "zYncZVOyF8Rb"
   },
   "source": [
    "# NEURAL NETWORKS AND DEEP LEARNING\r\n",
    "\r\n",
    "---\r\n",
    "A.A. 2021/22 (6 CFU) - Dr. Alberto Testolin, Dr. Umberto Michieli\r\n",
    "---\r\n",
    "\r\n",
    "Homework 1 - MSc student Amedeo Giuliani"
   ]
  },
  {
   "cell_type": "markdown",
   "metadata": {
    "id": "rZCClsi8vrYi"
   },
   "source": [
    "# Regression task"
   ]
  },
  {
   "cell_type": "markdown",
   "metadata": {
    "id": "JpHoPt5nyocz"
   },
   "source": [
    "## Dataset"
   ]
  },
  {
   "cell_type": "code",
   "execution_count": 1,
   "metadata": {
    "colab": {
     "base_uri": "https://localhost:8080/"
    },
    "id": "3ViQh-gfzxNH",
    "outputId": "069b775e-81d9-48e3-e231-3bbdea1cbfab"
   },
   "outputs": [
    {
     "data": {
      "text/plain": [
       "<torch._C.Generator at 0x7fab6dd6dc70>"
      ]
     },
     "execution_count": 1,
     "metadata": {},
     "output_type": "execute_result"
    }
   ],
   "source": [
    "import pandas as pd\n",
    "import matplotlib.pyplot as plt\n",
    "import torch\n",
    "import torchvision\n",
    "import numpy as np\n",
    "import os\n",
    "from torch.utils.data import Dataset, DataLoader\n",
    "from torchvision import transforms\n",
    "\n",
    "#for reproducible results\n",
    "torch.manual_seed(2005797)"
   ]
  },
  {
   "cell_type": "markdown",
   "metadata": {
    "id": "OjV_JeRcwrLC"
   },
   "source": [
    "The following cell of code will download the dataset and make it available in the local folder `regression_dataset`. There are two files:\n",
    "\n",
    "* `regression_dataset/train_data.csv`\n",
    "* `regression_dataset/test_data.csv`\n",
    "\n",
    "Use them to train and test your model. Each row contains two values, respactively the input and the target (label)."
   ]
  },
  {
   "cell_type": "code",
   "execution_count": 2,
   "metadata": {
    "colab": {
     "base_uri": "https://localhost:8080/"
    },
    "id": "RwYYbijrLVC9",
    "outputId": "5274d0e7-d2a8-4d28-8ea4-8dc56ec3feb1"
   },
   "outputs": [
    {
     "name": "stdout",
     "output_type": "stream",
     "text": [
      "--2022-01-09 16:54:10--  https://gitlab.dei.unipd.it/michieli/nnld-2021-22-lab-resources/-/raw/main/homework1/train_data.csv\n",
      "Resolving gitlab.dei.unipd.it (gitlab.dei.unipd.it)... 147.162.2.85\n",
      "Connecting to gitlab.dei.unipd.it (gitlab.dei.unipd.it)|147.162.2.85|:443... connected.\n",
      "HTTP request sent, awaiting response... 200 OK\n",
      "Length: 3776 (3.7K) [text/plain]\n",
      "Saving to: ‘regression_dataset/train_data.csv’\n",
      "\n",
      "train_data.csv      100%[===================>]   3.69K  --.-KB/s    in 0s      \n",
      "\n",
      "2022-01-09 16:54:12 (57.7 MB/s) - ‘regression_dataset/train_data.csv’ saved [3776/3776]\n",
      "\n",
      "--2022-01-09 16:54:12--  https://gitlab.dei.unipd.it/michieli/nnld-2021-22-lab-resources/-/raw/main/homework1/test_data.csv\n",
      "Resolving gitlab.dei.unipd.it (gitlab.dei.unipd.it)... 147.162.2.85\n",
      "Connecting to gitlab.dei.unipd.it (gitlab.dei.unipd.it)|147.162.2.85|:443... connected.\n",
      "HTTP request sent, awaiting response... 200 OK\n",
      "Length: 3788 (3.7K) [text/plain]\n",
      "Saving to: ‘regression_dataset/test_data.csv’\n",
      "\n",
      "test_data.csv       100%[===================>]   3.70K  --.-KB/s    in 0s      \n",
      "\n",
      "2022-01-09 16:54:13 (50.8 MB/s) - ‘regression_dataset/test_data.csv’ saved [3788/3788]\n",
      "\n"
     ]
    }
   ],
   "source": [
    "!wget -P regression_dataset https://gitlab.dei.unipd.it/michieli/nnld-2021-22-lab-resources/-/raw/main/homework1/train_data.csv\n",
    "!wget -P regression_dataset https://gitlab.dei.unipd.it/michieli/nnld-2021-22-lab-resources/-/raw/main/homework1/test_data.csv "
   ]
  },
  {
   "cell_type": "markdown",
   "metadata": {
    "id": "FJRxVBksxsBw"
   },
   "source": [
    "How to load the data:"
   ]
  },
  {
   "cell_type": "code",
   "execution_count": 2,
   "metadata": {
    "id": "v-mqEnRkIJL1"
   },
   "outputs": [],
   "source": [
    "class CsvDataset(Dataset):\n",
    "\n",
    "    def __init__(self, csv_file, transform=None):\n",
    "        \"\"\"\n",
    "        Args:\n",
    "            csv_file (string): Path to the csv file.\n",
    "            transform (callable, optional): Optional transform to be applied\n",
    "                on a sample.\n",
    "        \"\"\"\n",
    "        self.transform = transform\n",
    "        # Read the file and split the lines in a list\n",
    "        with open(csv_file, 'r') as f:\n",
    "            lines = f.read().split('\\n')\n",
    "        # Get x and y values from each line and append to self.data\n",
    "        self.data = []\n",
    "        for line in lines[1:-1]:\n",
    "            sample = line.split(',')\n",
    "            self.data.append((float(sample[0]), float(sample[1])))\n",
    "        # Now self.data contains all our dataset.\n",
    "        # Each element of the list self.data is a tuple: (input, output)\n",
    "\n",
    "    def __len__(self):\n",
    "        # The length of the dataset is simply the length of the self.data list\n",
    "        return len(self.data)\n",
    "\n",
    "    def __getitem__(self, idx):\n",
    "        # Our sample is the element idx of the list self.data\n",
    "        sample = self.data[idx]\n",
    "        if self.transform:\n",
    "            sample = self.transform(sample)\n",
    "        return sample\n",
    "\n",
    "class ToTensor(object):\n",
    "    \"\"\"Convert sample to Tensors.\"\"\"\n",
    "\n",
    "    def __call__(self, sample):\n",
    "        x, y = sample\n",
    "        return (torch.tensor([x]).float(),\n",
    "                torch.tensor([y]).float())"
   ]
  },
  {
   "cell_type": "code",
   "execution_count": 3,
   "metadata": {
    "id": "a-FdEP-JxwEu"
   },
   "outputs": [],
   "source": [
    "composed_transform = transforms.Compose([ToTensor()])\n",
    "train_dataset = CsvDataset('regression_dataset/train_data.csv', transform=composed_transform)\n",
    "test_dataset = CsvDataset('regression_dataset/test_data.csv', transform=composed_transform)\n",
    "\n",
    "train_df = pd.read_csv('regression_dataset/train_data.csv')\n",
    "test_df = pd.read_csv('regression_dataset/test_data.csv')\n",
    "#test_data = test_df.to_numpy()\n",
    "#test_data = torch.tensor(test_data).float()\n",
    "\n",
    "train_loader = DataLoader(train_dataset,batch_size=25, shuffle=False, num_workers=0)\n",
    "test_loader = DataLoader(test_dataset,batch_size=25, shuffle=False, num_workers=0)"
   ]
  },
  {
   "cell_type": "code",
   "execution_count": 4,
   "metadata": {
    "id": "2id2KvP_AsPh"
   },
   "outputs": [],
   "source": [
    "class Net(torch.nn.Module):\n",
    "  def __init__(self,num_input,num_h1,num_h2,num_output,p):\n",
    "    super().__init__()\n",
    "    self.hidden1 = torch.nn.Linear(num_input,num_h1)\n",
    "    self.hidden2 = torch.nn.Linear(num_h1,num_h2)\n",
    "    self.output = torch.nn.Linear(num_h2,num_output)\n",
    "    self.act = torch.nn.Sigmoid()\n",
    "    self.dropout = torch.nn.Dropout(p)\n",
    "\n",
    "  def forward(self,x,additional_out=False):\n",
    "    x = self.act(self.hidden1(x))\n",
    "    x = self.dropout(x)\n",
    "    x = self.act(self.hidden2(x))\n",
    "    x = self.dropout(x)\n",
    "    out = self.output(x)\n",
    "    return out"
   ]
  },
  {
   "cell_type": "code",
   "execution_count": 38,
   "metadata": {
    "colab": {
     "base_uri": "https://localhost:8080/"
    },
    "id": "aHzdwpSyURW9",
    "outputId": "c118ca28-c208-4b5a-e9c3-99c21245aa66"
   },
   "outputs": [
    {
     "name": "stdout",
     "output_type": "stream",
     "text": [
      "Requirement already satisfied: skorch in /opt/conda/lib/python3.7/site-packages (0.11.0)\n",
      "Requirement already satisfied: scikit-learn>=0.19.1 in /opt/conda/lib/python3.7/site-packages (from skorch) (1.0)\n",
      "Requirement already satisfied: tqdm>=4.14.0 in /opt/conda/lib/python3.7/site-packages (from skorch) (4.62.3)\n",
      "Requirement already satisfied: numpy>=1.13.3 in /opt/conda/lib/python3.7/site-packages (from skorch) (1.19.5)\n",
      "Requirement already satisfied: scipy>=1.1.0 in /opt/conda/lib/python3.7/site-packages (from skorch) (1.7.1)\n",
      "Requirement already satisfied: tabulate>=0.7.7 in /opt/conda/lib/python3.7/site-packages (from skorch) (0.8.9)\n",
      "Requirement already satisfied: joblib>=0.11 in /opt/conda/lib/python3.7/site-packages (from scikit-learn>=0.19.1->skorch) (1.1.0)\n",
      "Requirement already satisfied: threadpoolctl>=2.0.0 in /opt/conda/lib/python3.7/site-packages (from scikit-learn>=0.19.1->skorch) (3.0.0)\n"
     ]
    },
    {
     "data": {
      "text/plain": [
       "<class 'skorch.regressor.NeuralNetRegressor'>[initialized](\n",
       "  module_=Net(\n",
       "    (hidden1): Linear(in_features=1, out_features=100, bias=True)\n",
       "    (hidden2): Linear(in_features=100, out_features=100, bias=True)\n",
       "    (output): Linear(in_features=100, out_features=1, bias=True)\n",
       "    (act): Sigmoid()\n",
       "    (dropout): Dropout(p=0, inplace=False)\n",
       "  ),\n",
       ")"
      ]
     },
     "execution_count": 38,
     "metadata": {},
     "output_type": "execute_result"
    }
   ],
   "source": [
    "!pip install skorch\n",
    "from skorch import NeuralNetRegressor\n",
    "\n",
    "net = NeuralNetRegressor(\n",
    "    Net,\n",
    "    module__num_input=1,\n",
    "    module__num_output=1,\n",
    "    module__num_h1=100,\n",
    "    module__num_h2=100,\n",
    "    module__p=0,\n",
    "    optimizer=torch.optim.Adam,\n",
    "    #ptimizer__momentum=0.9,\n",
    "    optimizer__weight_decay=1e-4,\n",
    "    criterion=torch.nn.MSELoss(),\n",
    "    max_epochs=5000,\n",
    "    lr=1e-3,\n",
    "    batch_size=25,\n",
    "    device='cuda',\n",
    "    verbose=0\n",
    ")\n",
    "\n",
    "X_train = train_df.input.to_numpy()\n",
    "X_train = X_train.reshape(-1,1)\n",
    "X_train = X_train.astype(np.float32)\n",
    "y_train = train_df.label.to_numpy()\n",
    "y_train = y_train.reshape(-1,1)\n",
    "y_train = y_train.astype(np.float32)\n",
    "net.fit(X_train,y_train)"
   ]
  },
  {
   "cell_type": "code",
   "execution_count": 39,
   "metadata": {
    "colab": {
     "base_uri": "https://localhost:8080/",
     "height": 1000
    },
    "id": "Hfhi5y_4URW9",
    "outputId": "f4756621-e5aa-4663-b431-9931055c330c"
   },
   "outputs": [
    {
     "data": {
      "image/png": "[encoded data removed]",
      "text/plain": [
       "<Figure size 864x576 with 1 Axes>"
      ]
     },
     "metadata": {
      "needs_background": "light"
     },
     "output_type": "display_data"
    },
    {
     "data": {
      "image/png": "[encoded data removed]",
      "text/plain": [
       "<Figure size 864x576 with 1 Axes>"
      ]
     },
     "metadata": {
      "needs_background": "light"
     },
     "output_type": "display_data"
    },
    {
     "data": {
      "image/png": "[encoded data removed]",
      "text/plain": [
       "<Figure size 864x576 with 1 Axes>"
      ]
     },
     "metadata": {
      "needs_background": "light"
     },
     "output_type": "display_data"
    }
   ],
   "source": [
    "train_loss_log = net.history[:,'train_loss']\n",
    "val_loss_log = net.history[:,'valid_loss']\n",
    "\n",
    "# Plot losses\n",
    "plt.figure(figsize=(12,8))\n",
    "plt.semilogy(train_loss_log, label='Train loss')\n",
    "plt.semilogy(val_loss_log, label='Validation loss')\n",
    "plt.xlabel('Epoch')\n",
    "plt.ylabel('Loss')\n",
    "plt.grid()\n",
    "plt.legend()\n",
    "plt.savefig('trainvalloss_ffn.png')\n",
    "\n",
    "#X_test = test_df.input.to_numpy().astype(float)\n",
    "#X_test = X_test.reshape(-1,1)\n",
    "#X_test = torch.tensor(X_test).float()\n",
    "\n",
    "if torch.cuda.is_available():\n",
    "  device = torch.device('cuda')\n",
    "\n",
    "input = torch.linspace(-5.2,5.2,2000)\n",
    "input = input.to(device)\n",
    "input = input.unsqueeze(-1)  # Adding a dimension to the input vector\n",
    "fit = net.predict(input)\n",
    "\n",
    "input = input.squeeze().cpu().numpy()\n",
    "\n",
    "fig = plt.figure(figsize=(12,8))\n",
    "plt.scatter(train_df.input, train_df.label, label='Training points')\n",
    "plt.plot(input,fit,label='fit',color='red',lw=3)\n",
    "plt.xlabel('input')\n",
    "plt.ylabel('label')\n",
    "plt.legend()\n",
    "plt.savefig('fitvstrain_ffn.png')\n",
    "\n",
    "fig = plt.figure(figsize=(12,8))\n",
    "plt.scatter(test_df.input, test_df.label, label='Test points')\n",
    "plt.plot(input,fit,label='fit',color='red',lw=3)\n",
    "plt.xlabel('input')\n",
    "plt.ylabel('label')\n",
    "plt.legend()\n",
    "plt.savefig('fitvstest_ffn.png')"
   ]
  },
  {
   "cell_type": "code",
   "execution_count": 40,
   "metadata": {
    "colab": {
     "base_uri": "https://localhost:8080/"
    },
    "id": "_tKltthdK-hW",
    "outputId": "85659752-3cb4-48c7-b4cf-c392bb52c699"
   },
   "outputs": [
    {
     "name": "stdout",
     "output_type": "stream",
     "text": [
      "Test loss: tensor(0.0976)\n"
     ]
    }
   ],
   "source": [
    "X_test = test_df.input.to_numpy()\n",
    "X_test = X_test.reshape(-1,1)\n",
    "X_test = torch.tensor(X_test).float()\n",
    "pred = net.predict(X_test)\n",
    "pred = torch.tensor(pred).float()\n",
    "\n",
    "y_test = test_df.label.to_numpy()\n",
    "y_test = y_test.reshape(-1,1)\n",
    "y_test = torch.tensor(y_test).float()\n",
    "\n",
    "mse = torch.nn.MSELoss()\n",
    "print('Test loss:',mse(y_test,pred))"
   ]
  },
  {
   "cell_type": "code",
   "execution_count": 8,
   "metadata": {
    "colab": {
     "base_uri": "https://localhost:8080/"
    },
    "id": "-6Oq2FmhjBBR",
    "outputId": "dfafd529-499d-450c-ab90-32a2ef10a6a8"
   },
   "outputs": [
    {
     "name": "stdout",
     "output_type": "stream",
     "text": [
      "Fitting 3 folds for each of 72 candidates, totalling 216 fits\n",
      "[CV] END batch_size=10, module__num_h1=80, module__num_h2=80, module__p=0, optimizer__weight_decay=0; total time= 1.5min\n",
      "[CV] END batch_size=10, module__num_h1=80, module__num_h2=80, module__p=0, optimizer__weight_decay=0; total time= 1.5min\n",
      "[CV] END batch_size=10, module__num_h1=80, module__num_h2=80, module__p=0, optimizer__weight_decay=0; total time= 1.5min\n",
      "[CV] END batch_size=10, module__num_h1=80, module__num_h2=80, module__p=0, optimizer__weight_decay=1e-05; total time= 1.5min\n",
      "[CV] END batch_size=10, module__num_h1=80, module__num_h2=80, module__p=0, optimizer__weight_decay=1e-05; total time= 1.5min\n",
      "[CV] END batch_size=10, module__num_h1=80, module__num_h2=80, module__p=0, optimizer__weight_decay=1e-05; total time= 1.5min\n",
      "[CV] END batch_size=10, module__num_h1=80, module__num_h2=80, module__p=0, optimizer__weight_decay=0.0001; total time= 1.5min\n",
      "[CV] END batch_size=10, module__num_h1=80, module__num_h2=80, module__p=0, optimizer__weight_decay=0.0001; total time= 1.5min\n",
      "[CV] END batch_size=10, module__num_h1=80, module__num_h2=80, module__p=0, optimizer__weight_decay=0.0001; total time= 1.5min\n",
      "[CV] END batch_size=10, module__num_h1=80, module__num_h2=80, module__p=0.25, optimizer__weight_decay=0; total time= 1.5min\n",
      "[CV] END batch_size=10, module__num_h1=80, module__num_h2=80, module__p=0.25, optimizer__weight_decay=0; total time= 1.5min\n",
      "[CV] END batch_size=10, module__num_h1=80, module__num_h2=80, module__p=0.25, optimizer__weight_decay=0; total time= 1.5min\n",
      "[CV] END batch_size=10, module__num_h1=80, module__num_h2=80, module__p=0.25, optimizer__weight_decay=1e-05; total time= 1.6min\n",
      "[CV] END batch_size=10, module__num_h1=80, module__num_h2=80, module__p=0.25, optimizer__weight_decay=1e-05; total time= 1.6min\n",
      "[CV] END batch_size=10, module__num_h1=80, module__num_h2=80, module__p=0.25, optimizer__weight_decay=1e-05; total time= 1.6min\n",
      "[CV] END batch_size=10, module__num_h1=80, module__num_h2=80, module__p=0.25, optimizer__weight_decay=0.0001; total time= 1.6min\n",
      "[CV] END batch_size=10, module__num_h1=80, module__num_h2=80, module__p=0.25, optimizer__weight_decay=0.0001; total time= 1.6min\n",
      "[CV] END batch_size=10, module__num_h1=80, module__num_h2=80, module__p=0.25, optimizer__weight_decay=0.0001; total time= 1.6min\n",
      "[CV] END batch_size=10, module__num_h1=80, module__num_h2=80, module__p=0.5, optimizer__weight_decay=0; total time= 1.5min\n",
      "[CV] END batch_size=10, module__num_h1=80, module__num_h2=80, module__p=0.5, optimizer__weight_decay=0; total time= 1.5min\n",
      "[CV] END batch_size=10, module__num_h1=80, module__num_h2=80, module__p=0.5, optimizer__weight_decay=0; total time= 1.5min\n",
      "[CV] END batch_size=10, module__num_h1=80, module__num_h2=80, module__p=0.5, optimizer__weight_decay=1e-05; total time= 1.6min\n",
      "[CV] END batch_size=10, module__num_h1=80, module__num_h2=80, module__p=0.5, optimizer__weight_decay=1e-05; total time= 1.6min\n",
      "[CV] END batch_size=10, module__num_h1=80, module__num_h2=80, module__p=0.5, optimizer__weight_decay=1e-05; total time= 1.6min\n",
      "[CV] END batch_size=10, module__num_h1=80, module__num_h2=80, module__p=0.5, optimizer__weight_decay=0.0001; total time= 1.6min\n",
      "[CV] END batch_size=10, module__num_h1=80, module__num_h2=80, module__p=0.5, optimizer__weight_decay=0.0001; total time= 1.6min\n",
      "[CV] END batch_size=10, module__num_h1=80, module__num_h2=80, module__p=0.5, optimizer__weight_decay=0.0001; total time= 1.5min\n",
      "[CV] END batch_size=10, module__num_h1=80, module__num_h2=100, module__p=0, optimizer__weight_decay=0; total time= 1.4min\n",
      "[CV] END batch_size=10, module__num_h1=80, module__num_h2=100, module__p=0, optimizer__weight_decay=0; total time= 1.4min\n",
      "[CV] END batch_size=10, module__num_h1=80, module__num_h2=100, module__p=0, optimizer__weight_decay=0; total time= 1.4min\n",
      "[CV] END batch_size=10, module__num_h1=80, module__num_h2=100, module__p=0, optimizer__weight_decay=1e-05; total time= 1.5min\n",
      "[CV] END batch_size=10, module__num_h1=80, module__num_h2=100, module__p=0, optimizer__weight_decay=1e-05; total time= 1.5min\n",
      "[CV] END batch_size=10, module__num_h1=80, module__num_h2=100, module__p=0, optimizer__weight_decay=1e-05; total time= 1.5min\n",
      "[CV] END batch_size=10, module__num_h1=80, module__num_h2=100, module__p=0, optimizer__weight_decay=0.0001; total time= 1.5min\n",
      "[CV] END batch_size=10, module__num_h1=80, module__num_h2=100, module__p=0, optimizer__weight_decay=0.0001; total time= 1.5min\n",
      "[CV] END batch_size=10, module__num_h1=80, module__num_h2=100, module__p=0, optimizer__weight_decay=0.0001; total time= 1.5min\n",
      "[CV] END batch_size=10, module__num_h1=80, module__num_h2=100, module__p=0.25, optimizer__weight_decay=0; total time= 1.5min\n",
      "[CV] END batch_size=10, module__num_h1=80, module__num_h2=100, module__p=0.25, optimizer__weight_decay=0; total time= 1.5min\n",
      "[CV] END batch_size=10, module__num_h1=80, module__num_h2=100, module__p=0.25, optimizer__weight_decay=0; total time= 1.5min\n",
      "[CV] END batch_size=10, module__num_h1=80, module__num_h2=100, module__p=0.25, optimizer__weight_decay=1e-05; total time= 1.5min\n",
      "[CV] END batch_size=10, module__num_h1=80, module__num_h2=100, module__p=0.25, optimizer__weight_decay=1e-05; total time= 1.5min\n",
      "[CV] END batch_size=10, module__num_h1=80, module__num_h2=100, module__p=0.25, optimizer__weight_decay=1e-05; total time= 1.5min\n",
      "[CV] END batch_size=10, module__num_h1=80, module__num_h2=100, module__p=0.25, optimizer__weight_decay=0.0001; total time= 1.5min\n",
      "[CV] END batch_size=10, module__num_h1=80, module__num_h2=100, module__p=0.25, optimizer__weight_decay=0.0001; total time= 1.5min\n",
      "[CV] END batch_size=10, module__num_h1=80, module__num_h2=100, module__p=0.25, optimizer__weight_decay=0.0001; total time= 1.5min\n",
      "[CV] END batch_size=10, module__num_h1=80, module__num_h2=100, module__p=0.5, optimizer__weight_decay=0; total time= 1.5min\n",
      "[CV] END batch_size=10, module__num_h1=80, module__num_h2=100, module__p=0.5, optimizer__weight_decay=0; total time= 1.5min\n",
      "[CV] END batch_size=10, module__num_h1=80, module__num_h2=100, module__p=0.5, optimizer__weight_decay=0; total time= 1.5min\n",
      "[CV] END batch_size=10, module__num_h1=80, module__num_h2=100, module__p=0.5, optimizer__weight_decay=1e-05; total time= 1.5min\n",
      "[CV] END batch_size=10, module__num_h1=80, module__num_h2=100, module__p=0.5, optimizer__weight_decay=1e-05; total time= 1.5min\n",
      "[CV] END batch_size=10, module__num_h1=80, module__num_h2=100, module__p=0.5, optimizer__weight_decay=1e-05; total time= 1.5min\n",
      "[CV] END batch_size=10, module__num_h1=80, module__num_h2=100, module__p=0.5, optimizer__weight_decay=0.0001; total time= 1.5min\n",
      "[CV] END batch_size=10, module__num_h1=80, module__num_h2=100, module__p=0.5, optimizer__weight_decay=0.0001; total time= 1.5min\n",
      "[CV] END batch_size=10, module__num_h1=80, module__num_h2=100, module__p=0.5, optimizer__weight_decay=0.0001; total time= 1.5min\n",
      "[CV] END batch_size=10, module__num_h1=100, module__num_h2=80, module__p=0, optimizer__weight_decay=0; total time= 1.4min\n",
      "[CV] END batch_size=10, module__num_h1=100, module__num_h2=80, module__p=0, optimizer__weight_decay=0; total time= 1.4min\n",
      "[CV] END batch_size=10, module__num_h1=100, module__num_h2=80, module__p=0, optimizer__weight_decay=0; total time= 1.4min\n",
      "[CV] END batch_size=10, module__num_h1=100, module__num_h2=80, module__p=0, optimizer__weight_decay=1e-05; total time= 1.5min\n",
      "[CV] END batch_size=10, module__num_h1=100, module__num_h2=80, module__p=0, optimizer__weight_decay=1e-05; total time= 1.4min\n",
      "[CV] END batch_size=10, module__num_h1=100, module__num_h2=80, module__p=0, optimizer__weight_decay=1e-05; total time= 1.5min\n",
      "[CV] END batch_size=10, module__num_h1=100, module__num_h2=80, module__p=0, optimizer__weight_decay=0.0001; total time= 1.4min\n",
      "[CV] END batch_size=10, module__num_h1=100, module__num_h2=80, module__p=0, optimizer__weight_decay=0.0001; total time= 1.4min\n",
      "[CV] END batch_size=10, module__num_h1=100, module__num_h2=80, module__p=0, optimizer__weight_decay=0.0001; total time= 1.4min\n",
      "[CV] END batch_size=10, module__num_h1=100, module__num_h2=80, module__p=0.25, optimizer__weight_decay=0; total time= 1.5min\n",
      "[CV] END batch_size=10, module__num_h1=100, module__num_h2=80, module__p=0.25, optimizer__weight_decay=0; total time= 1.5min\n",
      "[CV] END batch_size=10, module__num_h1=100, module__num_h2=80, module__p=0.25, optimizer__weight_decay=0; total time= 1.5min\n",
      "[CV] END batch_size=10, module__num_h1=100, module__num_h2=80, module__p=0.25, optimizer__weight_decay=1e-05; total time= 1.5min\n",
      "[CV] END batch_size=10, module__num_h1=100, module__num_h2=80, module__p=0.25, optimizer__weight_decay=1e-05; total time= 1.5min\n",
      "[CV] END batch_size=10, module__num_h1=100, module__num_h2=80, module__p=0.25, optimizer__weight_decay=1e-05; total time= 1.5min\n",
      "[CV] END batch_size=10, module__num_h1=100, module__num_h2=80, module__p=0.25, optimizer__weight_decay=0.0001; total time= 1.5min\n",
      "[CV] END batch_size=10, module__num_h1=100, module__num_h2=80, module__p=0.25, optimizer__weight_decay=0.0001; total time= 1.5min\n",
      "[CV] END batch_size=10, module__num_h1=100, module__num_h2=80, module__p=0.25, optimizer__weight_decay=0.0001; total time= 1.5min\n",
      "[CV] END batch_size=10, module__num_h1=100, module__num_h2=80, module__p=0.5, optimizer__weight_decay=0; total time= 1.5min\n",
      "[CV] END batch_size=10, module__num_h1=100, module__num_h2=80, module__p=0.5, optimizer__weight_decay=0; total time= 1.5min\n",
      "[CV] END batch_size=10, module__num_h1=100, module__num_h2=80, module__p=0.5, optimizer__weight_decay=0; total time= 1.5min\n",
      "[CV] END batch_size=10, module__num_h1=100, module__num_h2=80, module__p=0.5, optimizer__weight_decay=1e-05; total time= 1.5min\n",
      "[CV] END batch_size=10, module__num_h1=100, module__num_h2=80, module__p=0.5, optimizer__weight_decay=1e-05; total time= 1.5min\n",
      "[CV] END batch_size=10, module__num_h1=100, module__num_h2=80, module__p=0.5, optimizer__weight_decay=1e-05; total time= 1.5min\n",
      "[CV] END batch_size=10, module__num_h1=100, module__num_h2=80, module__p=0.5, optimizer__weight_decay=0.0001; total time= 1.5min\n",
      "[CV] END batch_size=10, module__num_h1=100, module__num_h2=80, module__p=0.5, optimizer__weight_decay=0.0001; total time= 1.5min\n",
      "[CV] END batch_size=10, module__num_h1=100, module__num_h2=80, module__p=0.5, optimizer__weight_decay=0.0001; total time= 1.5min\n",
      "[CV] END batch_size=10, module__num_h1=100, module__num_h2=100, module__p=0, optimizer__weight_decay=0; total time= 1.4min\n",
      "[CV] END batch_size=10, module__num_h1=100, module__num_h2=100, module__p=0, optimizer__weight_decay=0; total time= 1.4min\n",
      "[CV] END batch_size=10, module__num_h1=100, module__num_h2=100, module__p=0, optimizer__weight_decay=0; total time= 1.4min\n",
      "[CV] END batch_size=10, module__num_h1=100, module__num_h2=100, module__p=0, optimizer__weight_decay=1e-05; total time= 1.4min\n",
      "[CV] END batch_size=10, module__num_h1=100, module__num_h2=100, module__p=0, optimizer__weight_decay=1e-05; total time= 1.5min\n",
      "[CV] END batch_size=10, module__num_h1=100, module__num_h2=100, module__p=0, optimizer__weight_decay=1e-05; total time= 1.5min\n",
      "[CV] END batch_size=10, module__num_h1=100, module__num_h2=100, module__p=0, optimizer__weight_decay=0.0001; total time= 1.4min\n",
      "[CV] END batch_size=10, module__num_h1=100, module__num_h2=100, module__p=0, optimizer__weight_decay=0.0001; total time= 1.4min\n",
      "[CV] END batch_size=10, module__num_h1=100, module__num_h2=100, module__p=0, optimizer__weight_decay=0.0001; total time= 1.5min\n",
      "[CV] END batch_size=10, module__num_h1=100, module__num_h2=100, module__p=0.25, optimizer__weight_decay=0; total time= 1.5min\n",
      "[CV] END batch_size=10, module__num_h1=100, module__num_h2=100, module__p=0.25, optimizer__weight_decay=0; total time= 1.5min\n",
      "[CV] END batch_size=10, module__num_h1=100, module__num_h2=100, module__p=0.25, optimizer__weight_decay=0; total time= 1.5min\n",
      "[CV] END batch_size=10, module__num_h1=100, module__num_h2=100, module__p=0.25, optimizer__weight_decay=1e-05; total time= 1.5min\n",
      "[CV] END batch_size=10, module__num_h1=100, module__num_h2=100, module__p=0.25, optimizer__weight_decay=1e-05; total time= 1.5min\n",
      "[CV] END batch_size=10, module__num_h1=100, module__num_h2=100, module__p=0.25, optimizer__weight_decay=1e-05; total time= 1.5min\n",
      "[CV] END batch_size=10, module__num_h1=100, module__num_h2=100, module__p=0.25, optimizer__weight_decay=0.0001; total time= 1.5min\n",
      "[CV] END batch_size=10, module__num_h1=100, module__num_h2=100, module__p=0.25, optimizer__weight_decay=0.0001; total time= 1.5min\n",
      "[CV] END batch_size=10, module__num_h1=100, module__num_h2=100, module__p=0.25, optimizer__weight_decay=0.0001; total time= 1.5min\n",
      "[CV] END batch_size=10, module__num_h1=100, module__num_h2=100, module__p=0.5, optimizer__weight_decay=0; total time= 1.5min\n",
      "[CV] END batch_size=10, module__num_h1=100, module__num_h2=100, module__p=0.5, optimizer__weight_decay=0; total time= 1.5min\n",
      "[CV] END batch_size=10, module__num_h1=100, module__num_h2=100, module__p=0.5, optimizer__weight_decay=0; total time= 1.5min\n",
      "[CV] END batch_size=10, module__num_h1=100, module__num_h2=100, module__p=0.5, optimizer__weight_decay=1e-05; total time= 1.5min\n",
      "[CV] END batch_size=10, module__num_h1=100, module__num_h2=100, module__p=0.5, optimizer__weight_decay=1e-05; total time= 1.5min\n",
      "[CV] END batch_size=10, module__num_h1=100, module__num_h2=100, module__p=0.5, optimizer__weight_decay=1e-05; total time= 1.5min\n",
      "[CV] END batch_size=10, module__num_h1=100, module__num_h2=100, module__p=0.5, optimizer__weight_decay=0.0001; total time= 1.5min\n",
      "[CV] END batch_size=10, module__num_h1=100, module__num_h2=100, module__p=0.5, optimizer__weight_decay=0.0001; total time= 1.5min\n",
      "[CV] END batch_size=10, module__num_h1=100, module__num_h2=100, module__p=0.5, optimizer__weight_decay=0.0001; total time= 1.5min\n",
      "[CV] END batch_size=25, module__num_h1=80, module__num_h2=80, module__p=0, optimizer__weight_decay=0; total time=  41.2s\n",
      "[CV] END batch_size=25, module__num_h1=80, module__num_h2=80, module__p=0, optimizer__weight_decay=0; total time=  41.3s\n",
      "[CV] END batch_size=25, module__num_h1=80, module__num_h2=80, module__p=0, optimizer__weight_decay=0; total time=  41.2s\n",
      "[CV] END batch_size=25, module__num_h1=80, module__num_h2=80, module__p=0, optimizer__weight_decay=1e-05; total time=  42.3s\n",
      "[CV] END batch_size=25, module__num_h1=80, module__num_h2=80, module__p=0, optimizer__weight_decay=1e-05; total time=  42.4s\n",
      "[CV] END batch_size=25, module__num_h1=80, module__num_h2=80, module__p=0, optimizer__weight_decay=1e-05; total time=  42.1s\n",
      "[CV] END batch_size=25, module__num_h1=80, module__num_h2=80, module__p=0, optimizer__weight_decay=0.0001; total time=  42.3s\n",
      "[CV] END batch_size=25, module__num_h1=80, module__num_h2=80, module__p=0, optimizer__weight_decay=0.0001; total time=  42.3s\n",
      "[CV] END batch_size=25, module__num_h1=80, module__num_h2=80, module__p=0, optimizer__weight_decay=0.0001; total time=  42.2s\n",
      "[CV] END batch_size=25, module__num_h1=80, module__num_h2=80, module__p=0.25, optimizer__weight_decay=0; total time=  41.8s\n",
      "[CV] END batch_size=25, module__num_h1=80, module__num_h2=80, module__p=0.25, optimizer__weight_decay=0; total time=  42.2s\n",
      "[CV] END batch_size=25, module__num_h1=80, module__num_h2=80, module__p=0.25, optimizer__weight_decay=0; total time=  42.1s\n",
      "[CV] END batch_size=25, module__num_h1=80, module__num_h2=80, module__p=0.25, optimizer__weight_decay=1e-05; total time=  43.3s\n",
      "[CV] END batch_size=25, module__num_h1=80, module__num_h2=80, module__p=0.25, optimizer__weight_decay=1e-05; total time=  43.6s\n",
      "[CV] END batch_size=25, module__num_h1=80, module__num_h2=80, module__p=0.25, optimizer__weight_decay=1e-05; total time=  43.4s\n",
      "[CV] END batch_size=25, module__num_h1=80, module__num_h2=80, module__p=0.25, optimizer__weight_decay=0.0001; total time=  43.3s\n",
      "[CV] END batch_size=25, module__num_h1=80, module__num_h2=80, module__p=0.25, optimizer__weight_decay=0.0001; total time=  43.3s\n",
      "[CV] END batch_size=25, module__num_h1=80, module__num_h2=80, module__p=0.25, optimizer__weight_decay=0.0001; total time=  43.3s\n",
      "[CV] END batch_size=25, module__num_h1=80, module__num_h2=80, module__p=0.5, optimizer__weight_decay=0; total time=  42.3s\n",
      "[CV] END batch_size=25, module__num_h1=80, module__num_h2=80, module__p=0.5, optimizer__weight_decay=0; total time=  42.1s\n",
      "[CV] END batch_size=25, module__num_h1=80, module__num_h2=80, module__p=0.5, optimizer__weight_decay=0; total time=  42.1s\n",
      "[CV] END batch_size=25, module__num_h1=80, module__num_h2=80, module__p=0.5, optimizer__weight_decay=1e-05; total time=  43.7s\n",
      "[CV] END batch_size=25, module__num_h1=80, module__num_h2=80, module__p=0.5, optimizer__weight_decay=1e-05; total time=  43.3s\n",
      "[CV] END batch_size=25, module__num_h1=80, module__num_h2=80, module__p=0.5, optimizer__weight_decay=1e-05; total time=  43.7s\n",
      "[CV] END batch_size=25, module__num_h1=80, module__num_h2=80, module__p=0.5, optimizer__weight_decay=0.0001; total time=  43.3s\n",
      "[CV] END batch_size=25, module__num_h1=80, module__num_h2=80, module__p=0.5, optimizer__weight_decay=0.0001; total time=  43.4s\n",
      "[CV] END batch_size=25, module__num_h1=80, module__num_h2=80, module__p=0.5, optimizer__weight_decay=0.0001; total time=  43.3s\n",
      "[CV] END batch_size=25, module__num_h1=80, module__num_h2=100, module__p=0, optimizer__weight_decay=0; total time=  41.0s\n",
      "[CV] END batch_size=25, module__num_h1=80, module__num_h2=100, module__p=0, optimizer__weight_decay=0; total time=  40.9s\n",
      "[CV] END batch_size=25, module__num_h1=80, module__num_h2=100, module__p=0, optimizer__weight_decay=0; total time=  40.9s\n",
      "[CV] END batch_size=25, module__num_h1=80, module__num_h2=100, module__p=0, optimizer__weight_decay=1e-05; total time=  42.5s\n",
      "[CV] END batch_size=25, module__num_h1=80, module__num_h2=100, module__p=0, optimizer__weight_decay=1e-05; total time=  42.4s\n",
      "[CV] END batch_size=25, module__num_h1=80, module__num_h2=100, module__p=0, optimizer__weight_decay=1e-05; total time=  42.3s\n",
      "[CV] END batch_size=25, module__num_h1=80, module__num_h2=100, module__p=0, optimizer__weight_decay=0.0001; total time=  42.6s\n",
      "[CV] END batch_size=25, module__num_h1=80, module__num_h2=100, module__p=0, optimizer__weight_decay=0.0001; total time=  42.5s\n",
      "[CV] END batch_size=25, module__num_h1=80, module__num_h2=100, module__p=0, optimizer__weight_decay=0.0001; total time=  42.4s\n",
      "[CV] END batch_size=25, module__num_h1=80, module__num_h2=100, module__p=0.25, optimizer__weight_decay=0; total time=  42.3s\n",
      "[CV] END batch_size=25, module__num_h1=80, module__num_h2=100, module__p=0.25, optimizer__weight_decay=0; total time=  42.5s\n",
      "[CV] END batch_size=25, module__num_h1=80, module__num_h2=100, module__p=0.25, optimizer__weight_decay=0; total time=  42.0s\n",
      "[CV] END batch_size=25, module__num_h1=80, module__num_h2=100, module__p=0.25, optimizer__weight_decay=1e-05; total time=  43.3s\n",
      "[CV] END batch_size=25, module__num_h1=80, module__num_h2=100, module__p=0.25, optimizer__weight_decay=1e-05; total time=  43.3s\n",
      "[CV] END batch_size=25, module__num_h1=80, module__num_h2=100, module__p=0.25, optimizer__weight_decay=1e-05; total time=  43.5s\n",
      "[CV] END batch_size=25, module__num_h1=80, module__num_h2=100, module__p=0.25, optimizer__weight_decay=0.0001; total time=  43.3s\n",
      "[CV] END batch_size=25, module__num_h1=80, module__num_h2=100, module__p=0.25, optimizer__weight_decay=0.0001; total time=  43.6s\n",
      "[CV] END batch_size=25, module__num_h1=80, module__num_h2=100, module__p=0.25, optimizer__weight_decay=0.0001; total time=  43.7s\n",
      "[CV] END batch_size=25, module__num_h1=80, module__num_h2=100, module__p=0.5, optimizer__weight_decay=0; total time=  42.1s\n",
      "[CV] END batch_size=25, module__num_h1=80, module__num_h2=100, module__p=0.5, optimizer__weight_decay=0; total time=  42.2s\n",
      "[CV] END batch_size=25, module__num_h1=80, module__num_h2=100, module__p=0.5, optimizer__weight_decay=0; total time=  42.3s\n",
      "[CV] END batch_size=25, module__num_h1=80, module__num_h2=100, module__p=0.5, optimizer__weight_decay=1e-05; total time=  43.2s\n",
      "[CV] END batch_size=25, module__num_h1=80, module__num_h2=100, module__p=0.5, optimizer__weight_decay=1e-05; total time=  43.7s\n",
      "[CV] END batch_size=25, module__num_h1=80, module__num_h2=100, module__p=0.5, optimizer__weight_decay=1e-05; total time=  43.5s\n",
      "[CV] END batch_size=25, module__num_h1=80, module__num_h2=100, module__p=0.5, optimizer__weight_decay=0.0001; total time=  43.7s\n",
      "[CV] END batch_size=25, module__num_h1=80, module__num_h2=100, module__p=0.5, optimizer__weight_decay=0.0001; total time=  43.7s\n",
      "[CV] END batch_size=25, module__num_h1=80, module__num_h2=100, module__p=0.5, optimizer__weight_decay=0.0001; total time=  43.3s\n",
      "[CV] END batch_size=25, module__num_h1=100, module__num_h2=80, module__p=0, optimizer__weight_decay=0; total time=  41.3s\n",
      "[CV] END batch_size=25, module__num_h1=100, module__num_h2=80, module__p=0, optimizer__weight_decay=0; total time=  41.0s\n",
      "[CV] END batch_size=25, module__num_h1=100, module__num_h2=80, module__p=0, optimizer__weight_decay=0; total time=  41.2s\n",
      "[CV] END batch_size=25, module__num_h1=100, module__num_h2=80, module__p=0, optimizer__weight_decay=1e-05; total time=  42.3s\n",
      "[CV] END batch_size=25, module__num_h1=100, module__num_h2=80, module__p=0, optimizer__weight_decay=1e-05; total time=  42.3s\n",
      "[CV] END batch_size=25, module__num_h1=100, module__num_h2=80, module__p=0, optimizer__weight_decay=1e-05; total time=  42.3s\n",
      "[CV] END batch_size=25, module__num_h1=100, module__num_h2=80, module__p=0, optimizer__weight_decay=0.0001; total time=  42.1s\n",
      "[CV] END batch_size=25, module__num_h1=100, module__num_h2=80, module__p=0, optimizer__weight_decay=0.0001; total time=  42.2s\n",
      "[CV] END batch_size=25, module__num_h1=100, module__num_h2=80, module__p=0, optimizer__weight_decay=0.0001; total time=  42.4s\n",
      "[CV] END batch_size=25, module__num_h1=100, module__num_h2=80, module__p=0.25, optimizer__weight_decay=0; total time=  41.7s\n",
      "[CV] END batch_size=25, module__num_h1=100, module__num_h2=80, module__p=0.25, optimizer__weight_decay=0; total time=  42.2s\n",
      "[CV] END batch_size=25, module__num_h1=100, module__num_h2=80, module__p=0.25, optimizer__weight_decay=0; total time=  42.1s\n",
      "[CV] END batch_size=25, module__num_h1=100, module__num_h2=80, module__p=0.25, optimizer__weight_decay=1e-05; total time=  43.4s\n",
      "[CV] END batch_size=25, module__num_h1=100, module__num_h2=80, module__p=0.25, optimizer__weight_decay=1e-05; total time=  43.3s\n",
      "[CV] END batch_size=25, module__num_h1=100, module__num_h2=80, module__p=0.25, optimizer__weight_decay=1e-05; total time=  43.1s\n",
      "[CV] END batch_size=25, module__num_h1=100, module__num_h2=80, module__p=0.25, optimizer__weight_decay=0.0001; total time=  43.3s\n",
      "[CV] END batch_size=25, module__num_h1=100, module__num_h2=80, module__p=0.25, optimizer__weight_decay=0.0001; total time=  43.4s\n",
      "[CV] END batch_size=25, module__num_h1=100, module__num_h2=80, module__p=0.25, optimizer__weight_decay=0.0001; total time=  43.3s\n",
      "[CV] END batch_size=25, module__num_h1=100, module__num_h2=80, module__p=0.5, optimizer__weight_decay=0; total time=  42.1s\n",
      "[CV] END batch_size=25, module__num_h1=100, module__num_h2=80, module__p=0.5, optimizer__weight_decay=0; total time=  42.2s\n",
      "[CV] END batch_size=25, module__num_h1=100, module__num_h2=80, module__p=0.5, optimizer__weight_decay=0; total time=  42.1s\n",
      "[CV] END batch_size=25, module__num_h1=100, module__num_h2=80, module__p=0.5, optimizer__weight_decay=1e-05; total time=  43.4s\n",
      "[CV] END batch_size=25, module__num_h1=100, module__num_h2=80, module__p=0.5, optimizer__weight_decay=1e-05; total time=  43.4s\n",
      "[CV] END batch_size=25, module__num_h1=100, module__num_h2=80, module__p=0.5, optimizer__weight_decay=1e-05; total time=  43.3s\n",
      "[CV] END batch_size=25, module__num_h1=100, module__num_h2=80, module__p=0.5, optimizer__weight_decay=0.0001; total time=  43.2s\n",
      "[CV] END batch_size=25, module__num_h1=100, module__num_h2=80, module__p=0.5, optimizer__weight_decay=0.0001; total time=  43.5s\n",
      "[CV] END batch_size=25, module__num_h1=100, module__num_h2=80, module__p=0.5, optimizer__weight_decay=0.0001; total time=  43.4s\n",
      "[CV] END batch_size=25, module__num_h1=100, module__num_h2=100, module__p=0, optimizer__weight_decay=0; total time=  41.4s\n",
      "[CV] END batch_size=25, module__num_h1=100, module__num_h2=100, module__p=0, optimizer__weight_decay=0; total time=  41.1s\n",
      "[CV] END batch_size=25, module__num_h1=100, module__num_h2=100, module__p=0, optimizer__weight_decay=0; total time=  40.9s\n",
      "[CV] END batch_size=25, module__num_h1=100, module__num_h2=100, module__p=0, optimizer__weight_decay=1e-05; total time=  42.4s\n",
      "[CV] END batch_size=25, module__num_h1=100, module__num_h2=100, module__p=0, optimizer__weight_decay=1e-05; total time=  42.1s\n",
      "[CV] END batch_size=25, module__num_h1=100, module__num_h2=100, module__p=0, optimizer__weight_decay=1e-05; total time=  42.2s\n",
      "[CV] END batch_size=25, module__num_h1=100, module__num_h2=100, module__p=0, optimizer__weight_decay=0.0001; total time=  42.2s\n",
      "[CV] END batch_size=25, module__num_h1=100, module__num_h2=100, module__p=0, optimizer__weight_decay=0.0001; total time=  42.5s\n",
      "[CV] END batch_size=25, module__num_h1=100, module__num_h2=100, module__p=0, optimizer__weight_decay=0.0001; total time=  42.3s\n",
      "[CV] END batch_size=25, module__num_h1=100, module__num_h2=100, module__p=0.25, optimizer__weight_decay=0; total time=  42.1s\n",
      "[CV] END batch_size=25, module__num_h1=100, module__num_h2=100, module__p=0.25, optimizer__weight_decay=0; total time=  42.2s\n",
      "[CV] END batch_size=25, module__num_h1=100, module__num_h2=100, module__p=0.25, optimizer__weight_decay=0; total time=  42.2s\n",
      "[CV] END batch_size=25, module__num_h1=100, module__num_h2=100, module__p=0.25, optimizer__weight_decay=1e-05; total time=  43.1s\n",
      "[CV] END batch_size=25, module__num_h1=100, module__num_h2=100, module__p=0.25, optimizer__weight_decay=1e-05; total time=  43.2s\n",
      "[CV] END batch_size=25, module__num_h1=100, module__num_h2=100, module__p=0.25, optimizer__weight_decay=1e-05; total time=  43.4s\n",
      "[CV] END batch_size=25, module__num_h1=100, module__num_h2=100, module__p=0.25, optimizer__weight_decay=0.0001; total time=  43.3s\n",
      "[CV] END batch_size=25, module__num_h1=100, module__num_h2=100, module__p=0.25, optimizer__weight_decay=0.0001; total time=  43.4s\n",
      "[CV] END batch_size=25, module__num_h1=100, module__num_h2=100, module__p=0.25, optimizer__weight_decay=0.0001; total time=  43.3s\n",
      "[CV] END batch_size=25, module__num_h1=100, module__num_h2=100, module__p=0.5, optimizer__weight_decay=0; total time=  42.4s\n",
      "[CV] END batch_size=25, module__num_h1=100, module__num_h2=100, module__p=0.5, optimizer__weight_decay=0; total time=  42.3s\n",
      "[CV] END batch_size=25, module__num_h1=100, module__num_h2=100, module__p=0.5, optimizer__weight_decay=0; total time=  42.4s\n",
      "[CV] END batch_size=25, module__num_h1=100, module__num_h2=100, module__p=0.5, optimizer__weight_decay=1e-05; total time=  43.5s\n",
      "[CV] END batch_size=25, module__num_h1=100, module__num_h2=100, module__p=0.5, optimizer__weight_decay=1e-05; total time=  43.8s\n",
      "[CV] END batch_size=25, module__num_h1=100, module__num_h2=100, module__p=0.5, optimizer__weight_decay=1e-05; total time=  43.3s\n",
      "[CV] END batch_size=25, module__num_h1=100, module__num_h2=100, module__p=0.5, optimizer__weight_decay=0.0001; total time=  43.2s\n",
      "[CV] END batch_size=25, module__num_h1=100, module__num_h2=100, module__p=0.5, optimizer__weight_decay=0.0001; total time=  43.2s\n",
      "[CV] END batch_size=25, module__num_h1=100, module__num_h2=100, module__p=0.5, optimizer__weight_decay=0.0001; total time=  43.3s\n",
      "-1.9615515271822612 {'batch_size': 10, 'module__num_h1': 100, 'module__num_h2': 80, 'module__p': 0, 'optimizer__weight_decay': 0}\n"
     ]
    }
   ],
   "source": [
    "from sklearn.model_selection import GridSearchCV\n",
    "\n",
    "net = NeuralNetRegressor(\n",
    "    Net,\n",
    "    module__num_input=1,\n",
    "    module__num_output=1,\n",
    "    optimizer=torch.optim.Adam,\n",
    "    lr=1e-3,\n",
    "    max_epochs=5000,\n",
    "    train_split=None,\n",
    "    verbose=0,\n",
    "    device='cuda',\n",
    ")\n",
    "\n",
    "params = {\n",
    "    'module__num_h1': [80,100],\n",
    "    'module__num_h2': [80,100],\n",
    "    'module__p': [0,0.25,0.5],\n",
    "    'optimizer__weight_decay': [0,1e-5,1e-4],\n",
    "    'batch_size': [10,25],\n",
    "    #'max_epochs': [2000,4000,5000]\n",
    "}\n",
    "gs = GridSearchCV(net, params, refit=False, cv=3, scoring='neg_root_mean_squared_error',verbose=2,error_score='raise')\n",
    "\n",
    "X_train = train_df.input.to_numpy()\n",
    "X_train = X_train.reshape(-1,1)\n",
    "X_train = X_train.astype(np.float32)\n",
    "y_train = train_df.label.to_numpy()\n",
    "y_train = y_train.reshape(-1,1)\n",
    "y_train = y_train.astype(np.float32)\n",
    "\n",
    "gs.fit(X_train, y_train)\n",
    "print(gs.best_score_, gs.best_params_)"
   ]
  },
  {
   "cell_type": "code",
   "execution_count": null,
   "metadata": {
    "id": "MsANSM2kIL9e"
   },
   "outputs": [
    {
     "name": "stdout",
     "output_type": "stream",
     "text": [
      "Best score and parameters combination\n",
      "-1.9615515271822612 {'batch_size': 10, 'module__num_h1': 100, 'module__num_h2': 80, 'module__p': 0, 'optimizer__weight_decay': 0}\n"
     ]
    }
   ],
   "source": [
    "print('Best score and parameters combination')\n",
    "print(gs.best_score_, gs.best_params_)"
   ]
  },
  {
   "cell_type": "code",
   "execution_count": 14,
   "metadata": {
    "id": "DOlBniaQLhMZ"
   },
   "outputs": [
    {
     "data": {
      "text/plain": [
       "(array([ 2.,  0.,  0.,  0.,  1.,  0.,  0.,  0.,  0.,  1.,  0.,  1.,  1.,\n",
       "         0.,  0.,  2.,  1.,  0.,  1.,  0.,  0.,  1.,  1.,  2.,  5.,  2.,\n",
       "         7.,  1.,  0.,  0.,  3.,  6.,  4.,  2., 10.,  3.,  2.,  2.,  3.,\n",
       "         0.,  2.,  1.,  2.,  8.,  1.,  0.,  0.,  0.,  0.,  2.]),\n",
       " array([-1.3788251 , -1.3329195 , -1.2870139 , -1.2411083 , -1.1952027 ,\n",
       "        -1.1492971 , -1.1033915 , -1.0574859 , -1.0115803 , -0.96567476,\n",
       "        -0.91976917, -0.8738636 , -0.827958  , -0.7820524 , -0.7361468 ,\n",
       "        -0.6902412 , -0.6443356 , -0.59843004, -0.55252445, -0.50661886,\n",
       "        -0.4607133 , -0.4148077 , -0.36890212, -0.32299653, -0.27709094,\n",
       "        -0.23118535, -0.18527976, -0.13937417, -0.09346858, -0.04756299,\n",
       "        -0.0016574 ,  0.04424819,  0.09015378,  0.13605936,  0.18196495,\n",
       "         0.22787054,  0.27377614,  0.31968173,  0.3655873 ,  0.41149288,\n",
       "         0.45739847,  0.50330406,  0.54920965,  0.59511524,  0.64102083,\n",
       "         0.6869264 ,  0.732832  ,  0.7787376 ,  0.8246432 ,  0.8705488 ,\n",
       "         0.9164544 ], dtype=float32),\n",
       " <BarContainer object of 50 artists>)"
      ]
     },
     "execution_count": 14,
     "metadata": {},
     "output_type": "execute_result"
    },
    {
     "data": {
      "image/png": "[encoded data removed]",
      "text/plain": [
       "<Figure size 432x288 with 1 Axes>"
      ]
     },
     "metadata": {
      "needs_background": "light"
     },
     "output_type": "display_data"
    },
    {
     "data": {
      "image/png": "[encoded data removed]",
      "text/plain": [
       "<Figure size 432x288 with 1 Axes>"
      ]
     },
     "metadata": {
      "needs_background": "light"
     },
     "output_type": "display_data"
    },
    {
     "data": {
      "image/png": "[encoded data removed]",
      "text/plain": [
       "<Figure size 432x288 with 1 Axes>"
      ]
     },
     "metadata": {
      "needs_background": "light"
     },
     "output_type": "display_data"
    }
   ],
   "source": [
    "net.save_params(f_params='params.pth')\n",
    "regressor = Net(1,100,80,1,0)\n",
    "regressor.load_state_dict(torch.load('params.pth'))\n",
    "plt.figure()\n",
    "plt.title('Hidden layer 1 weights')\n",
    "plt.hist(regressor.hidden1.weight.detach().numpy().flatten(),50)\n",
    "plt.figure()\n",
    "plt.title('Hidden layer 2 weights')\n",
    "plt.hist(regressor.hidden2.weight.detach().numpy().flatten(),50)\n",
    "plt.figure()\n",
    "plt.title('Output layer weights')\n",
    "plt.hist(regressor.output.weight.detach().numpy().flatten(),50)"
   ]
  },
  {
   "cell_type": "markdown",
   "metadata": {
    "id": "SxW5QfJRvWV9"
   },
   "source": [
    "# Classification task"
   ]
  },
  {
   "cell_type": "markdown",
   "metadata": {
    "id": "cPTFyWeOyiR-"
   },
   "source": [
    "## Guidelines"
   ]
  },
  {
   "cell_type": "markdown",
   "metadata": {
    "id": "m8E-82AGylxj"
   },
   "source": [
    "* The goal is to train a neural network that maps an input image (from fashionMNIST) to one of ten classes (multi-class classification problem with mutually exclusive classes).\n",
    "* Define a proper loss (e.g. [torch.nn.CrossEntropyLoss](https://pytorch.org/docs/stable/generated/torch.nn.CrossEntropyLoss.html#torch.nn.CrossEntropyLoss))\n",
    "* Also here, consider to create a validation set from you training data, or use a k-fold cross-validation strategy.\n",
    "* Pay attention to the shape, data type and output values range. If needed, modify them accordingly to your implementation (read carefully the documentation of the layers that you use, e.g. [torch.nn.Conv2d](https://pytorch.org/docs/stable/generated/torch.nn.Conv2d.html)).\n",
    "* Explore different optimizers, acivation functions, network architectures. Analyze the effect of different regularization methods, such as dropout layers, random transformations (image rotation, scaling, add noise...) or L2 regularization (weight decay)."
   ]
  },
  {
   "cell_type": "markdown",
   "metadata": {
    "id": "rsvBiTw7ykT5"
   },
   "source": [
    "## Dataset"
   ]
  },
  {
   "cell_type": "code",
   "execution_count": 1,
   "metadata": {
    "colab": {
     "base_uri": "https://localhost:8080/"
    },
    "id": "lrkanzKpwaFJ",
    "outputId": "79af3dda-bc0d-424b-dfe4-c3bceb2b8092"
   },
   "outputs": [
    {
     "name": "stdout",
     "output_type": "stream",
     "text": [
      "Requirement already satisfied: skorch in /opt/conda/lib/python3.7/site-packages (0.11.0)\n",
      "Requirement already satisfied: tabulate>=0.7.7 in /opt/conda/lib/python3.7/site-packages (from skorch) (0.8.9)\n",
      "Requirement already satisfied: scipy>=1.1.0 in /opt/conda/lib/python3.7/site-packages (from skorch) (1.7.1)\n",
      "Requirement already satisfied: scikit-learn>=0.19.1 in /opt/conda/lib/python3.7/site-packages (from skorch) (1.0)\n",
      "Requirement already satisfied: numpy>=1.13.3 in /opt/conda/lib/python3.7/site-packages (from skorch) (1.19.5)\n",
      "Requirement already satisfied: tqdm>=4.14.0 in /opt/conda/lib/python3.7/site-packages (from skorch) (4.62.3)\n",
      "Requirement already satisfied: threadpoolctl>=2.0.0 in /opt/conda/lib/python3.7/site-packages (from scikit-learn>=0.19.1->skorch) (3.0.0)\n",
      "Requirement already satisfied: joblib>=0.11 in /opt/conda/lib/python3.7/site-packages (from scikit-learn>=0.19.1->skorch) (1.1.0)\n"
     ]
    },
    {
     "data": {
      "text/plain": [
       "<torch._C.Generator at 0x7f752af87730>"
      ]
     },
     "execution_count": 1,
     "metadata": {},
     "output_type": "execute_result"
    }
   ],
   "source": [
    "!pip install skorch\n",
    "from skorch import NeuralNetClassifier\n",
    "import torch\n",
    "import torchvision\n",
    "import matplotlib.pyplot as plt\n",
    "import numpy as np\n",
    "from torch.utils.data import Dataset, DataLoader\n",
    "from torch import nn\n",
    "\n",
    "torch.manual_seed(2005797) #for reproducible results"
   ]
  },
  {
   "cell_type": "markdown",
   "metadata": {
    "id": "EYaGs-I_zRk-"
   },
   "source": [
    "Download the dataset:"
   ]
  },
  {
   "cell_type": "code",
   "execution_count": 2,
   "metadata": {
    "colab": {
     "base_uri": "https://localhost:8080/",
     "height": 423,
     "referenced_widgets": [
      "8c5de3bb6613461db3c873ab519bccd9",
      "4e4251857a8a46478648638ab931ff8e",
      "9e6031461d044fc18288ed508ca81f90",
      "5973f127b722476c9fe15e6b6440b38a",
      "7a0a13e5fb3548b7b3de8db74be62914",
      "11e9fd2f21ad4e42a4cb18214c47ad2c",
      "36e556d1719a4086a20e2d3c82b5e90e",
      "f34d14605849459ab5af730ff9789fae",
      "2278c671bfda4d3085b4eb6d489459ff",
      "f723fd17530548b3b7bc4bea9080d3b1",
      "9838819465a3471c8e47127ced45b19a",
      "756c3e1cfa4b4e6d8b83535a6729c934",
      "5e6981f1f32545b1b9bb6706a5147f0e",
      "f81f56c7d7bb4681a2fc18fe2919ea75",
      "4311b2e8865f4cf0bd9734995a99c3cf",
      "8cb48593074948b5939b87605101346e",
      "8a462f9d00a64006bfa924e18b124999",
      "a7b8efd43ce0470f8d8f85772b36ce8e",
      "c4ec98c465294a479062c3c31160368d",
      "7bfdf836ef0e4e0aa224cd0ab2747b99",
      "253c56eab1cb4f6e85d2b3a1f6594638",
      "6b1a7e2d17af434faaed0cb8dad425bb",
      "50d408f074cc46b0b65f4a5bfa936f74",
      "4ede592319a94a9a8bc0fa3af91e932e",
      "4efe6b6cabc244248313d1d54ed64f47",
      "be748c3259b34e1982c6ef9167452f26",
      "bff5d848d8364a33801f5f673aa67b18",
      "3915791083c74b8fb8a541f8ffd98025",
      "4c6065f55cd64cb8a14060a432ff92cd",
      "c12e9f6828d242a494fbc53d77f89a85",
      "80b75f422f2841ca82f50baadbf83cee",
      "b2c1c06bf26846a6ac0aa6cb9426e255",
      "7f5bc3bf554e49c9a00183c68c3b5fca",
      "a2271399da754b7e8c93ee6c399fa904",
      "8d55f19204014c34a57586aebc26791d",
      "541223b0e42d44c9a1aba12f5d8dc15d",
      "b32578ad278943a3881082b92c61a937",
      "8216ebbd07404b659c5b40fa867e0abc",
      "0c52b38acec9419ab890673530eb1adc",
      "7682eb5d8c824e5696ad97a572376c6a",
      "9a6d4c3971524094b30bf9087515d663",
      "e5394f885cdf4cd5897fda11d196a22e",
      "44f3567c6c8f4b4fabfd8f0394b80c07",
      "5e659ef9b7da4fb98e521c050395b34d"
     ]
    },
    "id": "6wRuRn08zVO9",
    "outputId": "900312ee-285d-4ea2-c514-87ea34c8ef8f"
   },
   "outputs": [
    {
     "name": "stderr",
     "output_type": "stream",
     "text": [
      "/opt/conda/lib/python3.7/site-packages/torchvision/datasets/mnist.py:498: UserWarning: The given NumPy array is not writeable, and PyTorch does not support non-writeable tensors. This means you can write to the underlying (supposedly non-writeable) NumPy array using the tensor. You may want to copy the array to protect its data or make it writeable before converting it to a tensor. This type of warning will be suppressed for the rest of this program. (Triggered internally at  /opt/conda/conda-bld/pytorch_1623448265233/work/torch/csrc/utils/tensor_numpy.cpp:180.)\n",
      "  return torch.from_numpy(parsed.astype(m[2], copy=False)).view(*s)\n"
     ]
    }
   ],
   "source": [
    "train_dataset = torchvision.datasets.FashionMNIST('classifier_data', train=True, download=True, transform=torchvision.transforms.ToTensor())\n",
    "test_dataset  = torchvision.datasets.FashionMNIST('classifier_data', train=False, download=True, transform=torchvision.transforms.ToTensor())"
   ]
  },
  {
   "cell_type": "code",
   "execution_count": 3,
   "metadata": {
    "id": "Q_pa2ZN0IL9g"
   },
   "outputs": [],
   "source": [
    "train_dataloader = DataLoader(train_dataset,batch_size=600, shuffle=False, num_workers=0)\n",
    "test_dataloader = DataLoader(test_dataset,batch_size=len(test_dataset), shuffle=False, num_workers=0)"
   ]
  },
  {
   "cell_type": "code",
   "execution_count": 4,
   "metadata": {
    "id": "cH_xinYZIL9g"
   },
   "outputs": [],
   "source": [
    "class Net(torch.nn.Module):\n",
    "  def __init__(self, encoded_space_dim, p):\n",
    "        super().__init__()\n",
    "        \n",
    "        ### Convolutional section\n",
    "        self.encoder_cnn = nn.Sequential(\n",
    "            # First convolutional layer\n",
    "            nn.Conv2d(in_channels=1, out_channels=8, kernel_size=3, \n",
    "                      stride=2, padding=1),\n",
    "            nn.ReLU(True),\n",
    "            nn.Dropout2d(p),\n",
    "            # Second convolutional layer\n",
    "            nn.Conv2d(in_channels=8, out_channels=16, kernel_size=3, \n",
    "                      stride=2, padding=1),\n",
    "            nn.ReLU(True),\n",
    "            nn.Dropout2d(p),\n",
    "            # Third convolutional layer\n",
    "            nn.Conv2d(in_channels=16, out_channels=32, kernel_size=3, \n",
    "                      stride=2, padding=0),\n",
    "            nn.ReLU(True),\n",
    "            nn.Dropout2d(p),\n",
    "        )\n",
    "        \n",
    "        ### Flatten layer\n",
    "        self.flatten = nn.Flatten(start_dim=1)\n",
    "\n",
    "        ### Linear section\n",
    "        self.encoder_lin = nn.Sequential(\n",
    "            # First linear layer\n",
    "            nn.Linear(in_features=288, out_features=64),\n",
    "            nn.ReLU(True),\n",
    "            nn.Dropout(p),\n",
    "            # Second linear layer\n",
    "            nn.Linear(in_features=64, out_features=encoded_space_dim),\n",
    "            nn.Softmax(dim=-1)\n",
    "        )\n",
    "        \n",
    "  def forward(self, x):\n",
    "      # Apply convolutions\n",
    "      x = self.encoder_cnn(x)\n",
    "      # Flatten\n",
    "      x = self.flatten(x)\n",
    "      # # Apply linear layers\n",
    "      x = self.encoder_lin(x)\n",
    "      return x"
   ]
  },
  {
   "cell_type": "code",
   "execution_count": 17,
   "metadata": {
    "colab": {
     "base_uri": "https://localhost:8080/"
    },
    "id": "_pzODocXGGLs",
    "outputId": "889f54ce-dbb9-447d-d420-ba9d431c5799",
    "tags": []
   },
   "outputs": [
    {
     "name": "stdout",
     "output_type": "stream",
     "text": [
      "<class 'skorch.classifier.NeuralNetClassifier'>[uninitialized](\n",
      "  module=<class '__main__.Net'>,\n",
      "  module__encoded_space_dim=10,\n",
      "  module__p=0,\n",
      ")\n",
      "  epoch    train_loss    valid_acc    valid_loss     dur\n",
      "-------  ------------  -----------  ------------  ------\n",
      "      1        \u001b[36m1.8938\u001b[0m       \u001b[32m0.7344\u001b[0m        \u001b[35m1.7283\u001b[0m  1.6009\n",
      "      2        \u001b[36m1.7083\u001b[0m       \u001b[32m0.7839\u001b[0m        \u001b[35m1.6818\u001b[0m  1.6001\n",
      "      3        \u001b[36m1.6796\u001b[0m       \u001b[32m0.7997\u001b[0m        \u001b[35m1.6644\u001b[0m  1.5909\n",
      "      4        \u001b[36m1.6629\u001b[0m       \u001b[32m0.8095\u001b[0m        \u001b[35m1.6530\u001b[0m  1.5924\n",
      "      5        \u001b[36m1.6506\u001b[0m       \u001b[32m0.8187\u001b[0m        \u001b[35m1.6430\u001b[0m  1.5925\n",
      "      6        \u001b[36m1.6431\u001b[0m       \u001b[32m0.8227\u001b[0m        \u001b[35m1.6396\u001b[0m  1.5937\n",
      "      7        \u001b[36m1.6383\u001b[0m       \u001b[32m0.8254\u001b[0m        \u001b[35m1.6365\u001b[0m  1.6215\n",
      "      8        \u001b[36m1.6337\u001b[0m       \u001b[32m0.8312\u001b[0m        \u001b[35m1.6309\u001b[0m  1.5972\n",
      "      9        \u001b[36m1.6306\u001b[0m       0.8293        1.6324  1.5991\n",
      "     10        \u001b[36m1.6278\u001b[0m       \u001b[32m0.8341\u001b[0m        \u001b[35m1.6267\u001b[0m  1.5969\n",
      "     11        \u001b[36m1.6239\u001b[0m       \u001b[32m0.8373\u001b[0m        \u001b[35m1.6233\u001b[0m  1.5969\n",
      "     12        \u001b[36m1.6222\u001b[0m       \u001b[32m0.8438\u001b[0m        \u001b[35m1.6179\u001b[0m  1.5948\n",
      "     13        \u001b[36m1.6183\u001b[0m       0.8438        1.6179  1.5952\n",
      "     14        \u001b[36m1.6130\u001b[0m       \u001b[32m0.8457\u001b[0m        \u001b[35m1.6160\u001b[0m  1.6047\n",
      "     15        \u001b[36m1.6122\u001b[0m       0.8443        1.6174  1.6127\n",
      "     16        \u001b[36m1.6070\u001b[0m       \u001b[32m0.8542\u001b[0m        \u001b[35m1.6079\u001b[0m  1.5837\n",
      "     17        1.6070       0.8504        1.6102  1.5712\n",
      "     18        \u001b[36m1.6044\u001b[0m       0.8522        1.6093  1.5687\n",
      "     19        \u001b[36m1.6036\u001b[0m       \u001b[32m0.8583\u001b[0m        \u001b[35m1.6028\u001b[0m  1.5683\n",
      "     20        \u001b[36m1.6002\u001b[0m       0.8572        1.6040  1.5730\n",
      "     21        \u001b[36m1.5997\u001b[0m       \u001b[32m0.8595\u001b[0m        \u001b[35m1.6016\u001b[0m  1.5778\n",
      "     22        \u001b[36m1.5962\u001b[0m       0.8568        1.6046  1.5659\n",
      "     23        \u001b[36m1.5954\u001b[0m       \u001b[32m0.8617\u001b[0m        \u001b[35m1.6002\u001b[0m  1.5743\n",
      "     24        \u001b[36m1.5937\u001b[0m       0.8599        1.6020  1.5768\n",
      "     25        \u001b[36m1.5913\u001b[0m       \u001b[32m0.8631\u001b[0m        \u001b[35m1.5980\u001b[0m  1.5722\n",
      "     26        \u001b[36m1.5904\u001b[0m       \u001b[32m0.8642\u001b[0m        \u001b[35m1.5975\u001b[0m  1.6005\n",
      "     27        \u001b[36m1.5883\u001b[0m       \u001b[32m0.8650\u001b[0m        \u001b[35m1.5964\u001b[0m  1.5872\n",
      "     28        \u001b[36m1.5879\u001b[0m       \u001b[32m0.8668\u001b[0m        \u001b[35m1.5956\u001b[0m  1.5924\n",
      "     29        \u001b[36m1.5877\u001b[0m       \u001b[32m0.8672\u001b[0m        \u001b[35m1.5947\u001b[0m  1.5723\n",
      "     30        \u001b[36m1.5868\u001b[0m       0.8658        1.5968  1.5728\n",
      "     31        \u001b[36m1.5849\u001b[0m       0.8631        1.5984  1.5747\n",
      "     32        \u001b[36m1.5838\u001b[0m       \u001b[32m0.8702\u001b[0m        \u001b[35m1.5916\u001b[0m  1.5734\n",
      "     33        \u001b[36m1.5819\u001b[0m       0.8683        1.5928  1.5762\n",
      "     34        \u001b[36m1.5811\u001b[0m       0.8695        \u001b[35m1.5914\u001b[0m  1.5728\n",
      "     35        \u001b[36m1.5803\u001b[0m       \u001b[32m0.8712\u001b[0m        \u001b[35m1.5906\u001b[0m  1.5786\n",
      "     36        \u001b[36m1.5786\u001b[0m       \u001b[32m0.8733\u001b[0m        \u001b[35m1.5888\u001b[0m  1.5720\n",
      "     37        \u001b[36m1.5781\u001b[0m       0.8728        1.5894  1.5766\n",
      "     38        \u001b[36m1.5772\u001b[0m       0.8720        1.5895  1.5737\n",
      "     39        1.5774       \u001b[32m0.8751\u001b[0m        \u001b[35m1.5871\u001b[0m  1.5694\n",
      "     40        \u001b[36m1.5748\u001b[0m       0.8751        \u001b[35m1.5871\u001b[0m  1.5739\n",
      "     41        1.5748       0.8738        \u001b[35m1.5871\u001b[0m  1.5797\n",
      "     42        \u001b[36m1.5739\u001b[0m       0.8742        \u001b[35m1.5863\u001b[0m  1.5665\n",
      "     43        \u001b[36m1.5738\u001b[0m       \u001b[32m0.8757\u001b[0m        \u001b[35m1.5851\u001b[0m  1.5687\n",
      "     44        \u001b[36m1.5727\u001b[0m       0.8718        1.5903  1.5711\n",
      "     45        \u001b[36m1.5721\u001b[0m       0.8740        1.5874  1.5812\n",
      "     46        \u001b[36m1.5714\u001b[0m       \u001b[32m0.8774\u001b[0m        \u001b[35m1.5836\u001b[0m  1.5738\n",
      "     47        \u001b[36m1.5710\u001b[0m       \u001b[32m0.8792\u001b[0m        \u001b[35m1.5827\u001b[0m  1.5844\n",
      "     48        \u001b[36m1.5708\u001b[0m       0.8778        1.5832  1.5749\n",
      "     49        \u001b[36m1.5705\u001b[0m       \u001b[32m0.8799\u001b[0m        \u001b[35m1.5806\u001b[0m  1.5739\n",
      "     50        \u001b[36m1.5702\u001b[0m       0.8764        1.5837  1.5687\n"
     ]
    },
    {
     "data": {
      "text/plain": [
       "<class 'skorch.classifier.NeuralNetClassifier'>[initialized](\n",
       "  module_=Net(\n",
       "    (encoder_cnn): Sequential(\n",
       "      (0): Conv2d(1, 8, kernel_size=(3, 3), stride=(2, 2), padding=(1, 1))\n",
       "      (1): ReLU(inplace=True)\n",
       "      (2): Dropout2d(p=0, inplace=False)\n",
       "      (3): Conv2d(8, 16, kernel_size=(3, 3), stride=(2, 2), padding=(1, 1))\n",
       "      (4): ReLU(inplace=True)\n",
       "      (5): Dropout2d(p=0, inplace=False)\n",
       "      (6): Conv2d(16, 32, kernel_size=(3, 3), stride=(2, 2))\n",
       "      (7): ReLU(inplace=True)\n",
       "      (8): Dropout2d(p=0, inplace=False)\n",
       "    )\n",
       "    (flatten): Flatten(start_dim=1, end_dim=-1)\n",
       "    (encoder_lin): Sequential(\n",
       "      (0): Linear(in_features=288, out_features=64, bias=True)\n",
       "      (1): ReLU(inplace=True)\n",
       "      (2): Dropout(p=0, inplace=False)\n",
       "      (3): Linear(in_features=64, out_features=10, bias=True)\n",
       "      (4): Softmax(dim=-1)\n",
       "    )\n",
       "  ),\n",
       ")"
      ]
     },
     "execution_count": 17,
     "metadata": {},
     "output_type": "execute_result"
    }
   ],
   "source": [
    "net = NeuralNetClassifier(\n",
    "    Net,\n",
    "    module__encoded_space_dim=10,\n",
    "    optimizer=torch.optim.Adam,\n",
    "    optimizer__weight_decay=1e-4,\n",
    "    lr=1e-3,\n",
    "    criterion=nn.CrossEntropyLoss(),\n",
    "    max_epochs=50,\n",
    "    module__p=0,\n",
    "    batch_size=300,\n",
    "    device='cuda',\n",
    "    verbose=2\n",
    ")\n",
    "print(net)\n",
    "\n",
    "train_dataloader = DataLoader(train_dataset,batch_size=len(train_dataset), shuffle=False, num_workers=0)\n",
    "dataiter = iter(train_dataloader)\n",
    "images,labels = dataiter.next()\n",
    "images = images.numpy()\n",
    "labels = labels.numpy()\n",
    "net.fit(images,labels)"
   ]
  },
  {
   "cell_type": "code",
   "execution_count": 18,
   "metadata": {
    "id": "hAf6RxVOURXB"
   },
   "outputs": [
    {
     "data": {
      "image/png": "[encoded data removed]",
      "text/plain": [
       "<Figure size 864x576 with 1 Axes>"
      ]
     },
     "metadata": {
      "needs_background": "light"
     },
     "output_type": "display_data"
    }
   ],
   "source": [
    "train_loss_log = net.history[:,'train_loss']\n",
    "val_loss_log = net.history[:,'valid_loss']\n",
    "\n",
    "# Plot losses\n",
    "plt.figure(figsize=(12,8))\n",
    "plt.semilogy(train_loss_log, label='Train loss')\n",
    "plt.semilogy(val_loss_log, label='Validation loss')\n",
    "plt.xlabel('Epoch')\n",
    "plt.ylabel('Loss')\n",
    "plt.grid()\n",
    "plt.legend()\n",
    "plt.savefig('traintestloss_cnn.png')"
   ]
  },
  {
   "cell_type": "code",
   "execution_count": 19,
   "metadata": {
    "id": "0kX_tj0JIL9h"
   },
   "outputs": [
    {
     "name": "stdout",
     "output_type": "stream",
     "text": [
      "Test accuracy: 86.77%\n",
      "Test accuracy: 86.77%\n"
     ]
    }
   ],
   "source": [
    "from sklearn.metrics import accuracy_score\n",
    "\n",
    "dataiter = iter(test_dataloader)\n",
    "images,labels = dataiter.next()\n",
    "images = images.numpy()\n",
    "labels = labels.numpy()\n",
    "\n",
    "outputs = net.predict(images)\n",
    "print('Test accuracy: '+str(accuracy_score(outputs,labels.tolist())*100)+'%')\n",
    "print('Test accuracy: '+str(net.score(images,labels)*100)+'%')"
   ]
  },
  {
   "cell_type": "code",
   "execution_count": 7,
   "metadata": {
    "id": "TRmMuAMzEfdl"
   },
   "outputs": [
    {
     "name": "stdout",
     "output_type": "stream",
     "text": [
      "(60000, 1, 28, 28) (60000,)\n",
      "Fitting 3 folds for each of 18 candidates, totalling 54 fits\n",
      "[CV] END batch_size=300, module__p=0, optimizer__weight_decay=0; total time=  56.5s\n",
      "[CV] END batch_size=300, module__p=0, optimizer__weight_decay=0; total time=  54.8s\n",
      "[CV] END batch_size=300, module__p=0, optimizer__weight_decay=0; total time=  54.7s\n",
      "[CV] END batch_size=300, module__p=0, optimizer__weight_decay=1e-05; total time=  54.7s\n",
      "[CV] END batch_size=300, module__p=0, optimizer__weight_decay=1e-05; total time=  54.3s\n",
      "[CV] END batch_size=300, module__p=0, optimizer__weight_decay=1e-05; total time=  54.4s\n",
      "[CV] END batch_size=300, module__p=0, optimizer__weight_decay=0.0001; total time=  54.5s\n",
      "[CV] END batch_size=300, module__p=0, optimizer__weight_decay=0.0001; total time=  54.4s\n",
      "[CV] END batch_size=300, module__p=0, optimizer__weight_decay=0.0001; total time=  54.4s\n",
      "[CV] END batch_size=300, module__p=0.25, optimizer__weight_decay=0; total time=  55.7s\n",
      "[CV] END batch_size=300, module__p=0.25, optimizer__weight_decay=0; total time=  55.5s\n",
      "[CV] END batch_size=300, module__p=0.25, optimizer__weight_decay=0; total time=  55.6s\n",
      "[CV] END batch_size=300, module__p=0.25, optimizer__weight_decay=1e-05; total time=  56.0s\n",
      "[CV] END batch_size=300, module__p=0.25, optimizer__weight_decay=1e-05; total time=  55.7s\n",
      "[CV] END batch_size=300, module__p=0.25, optimizer__weight_decay=1e-05; total time=  55.7s\n",
      "[CV] END batch_size=300, module__p=0.25, optimizer__weight_decay=0.0001; total time=  55.6s\n",
      "[CV] END batch_size=300, module__p=0.25, optimizer__weight_decay=0.0001; total time=  55.6s\n",
      "[CV] END batch_size=300, module__p=0.25, optimizer__weight_decay=0.0001; total time=  55.5s\n",
      "[CV] END batch_size=300, module__p=0.5, optimizer__weight_decay=0; total time=  54.7s\n",
      "[CV] END batch_size=300, module__p=0.5, optimizer__weight_decay=0; total time=  54.6s\n",
      "[CV] END batch_size=300, module__p=0.5, optimizer__weight_decay=0; total time=  54.8s\n",
      "[CV] END batch_size=300, module__p=0.5, optimizer__weight_decay=1e-05; total time=  55.1s\n",
      "[CV] END batch_size=300, module__p=0.5, optimizer__weight_decay=1e-05; total time=  55.0s\n",
      "[CV] END batch_size=300, module__p=0.5, optimizer__weight_decay=1e-05; total time=  55.0s\n",
      "[CV] END batch_size=300, module__p=0.5, optimizer__weight_decay=0.0001; total time=  55.0s\n",
      "[CV] END batch_size=300, module__p=0.5, optimizer__weight_decay=0.0001; total time=  55.1s\n",
      "[CV] END batch_size=300, module__p=0.5, optimizer__weight_decay=0.0001; total time=  54.9s\n",
      "[CV] END batch_size=600, module__p=0, optimizer__weight_decay=0; total time=  50.0s\n",
      "[CV] END batch_size=600, module__p=0, optimizer__weight_decay=0; total time=  50.0s\n",
      "[CV] END batch_size=600, module__p=0, optimizer__weight_decay=0; total time=  50.0s\n",
      "[CV] END batch_size=600, module__p=0, optimizer__weight_decay=1e-05; total time=  50.2s\n",
      "[CV] END batch_size=600, module__p=0, optimizer__weight_decay=1e-05; total time=  50.1s\n",
      "[CV] END batch_size=600, module__p=0, optimizer__weight_decay=1e-05; total time=  50.0s\n",
      "[CV] END batch_size=600, module__p=0, optimizer__weight_decay=0.0001; total time=  50.1s\n",
      "[CV] END batch_size=600, module__p=0, optimizer__weight_decay=0.0001; total time=  50.1s\n",
      "[CV] END batch_size=600, module__p=0, optimizer__weight_decay=0.0001; total time=  50.2s\n",
      "[CV] END batch_size=600, module__p=0.25, optimizer__weight_decay=0; total time=  51.1s\n",
      "[CV] END batch_size=600, module__p=0.25, optimizer__weight_decay=0; total time=  51.1s\n",
      "[CV] END batch_size=600, module__p=0.25, optimizer__weight_decay=0; total time=  51.0s\n",
      "[CV] END batch_size=600, module__p=0.25, optimizer__weight_decay=1e-05; total time=  51.2s\n",
      "[CV] END batch_size=600, module__p=0.25, optimizer__weight_decay=1e-05; total time=  51.3s\n",
      "[CV] END batch_size=600, module__p=0.25, optimizer__weight_decay=1e-05; total time=  51.3s\n",
      "[CV] END batch_size=600, module__p=0.25, optimizer__weight_decay=0.0001; total time=  51.2s\n",
      "[CV] END batch_size=600, module__p=0.25, optimizer__weight_decay=0.0001; total time=  51.4s\n",
      "[CV] END batch_size=600, module__p=0.25, optimizer__weight_decay=0.0001; total time=  51.3s\n",
      "[CV] END batch_size=600, module__p=0.5, optimizer__weight_decay=0; total time=  51.1s\n",
      "[CV] END batch_size=600, module__p=0.5, optimizer__weight_decay=0; total time=  51.0s\n",
      "[CV] END batch_size=600, module__p=0.5, optimizer__weight_decay=0; total time=  51.0s\n",
      "[CV] END batch_size=600, module__p=0.5, optimizer__weight_decay=1e-05; total time=  51.3s\n",
      "[CV] END batch_size=600, module__p=0.5, optimizer__weight_decay=1e-05; total time=  51.2s\n",
      "[CV] END batch_size=600, module__p=0.5, optimizer__weight_decay=1e-05; total time=  51.2s\n",
      "[CV] END batch_size=600, module__p=0.5, optimizer__weight_decay=0.0001; total time=  51.2s\n",
      "[CV] END batch_size=600, module__p=0.5, optimizer__weight_decay=0.0001; total time=  51.1s\n",
      "[CV] END batch_size=600, module__p=0.5, optimizer__weight_decay=0.0001; total time=  51.2s\n",
      "0.8723166666666667 {'batch_size': 300, 'module__p': 0, 'optimizer__weight_decay': 0.0001}\n"
     ]
    }
   ],
   "source": [
    "from sklearn.model_selection import GridSearchCV\n",
    "\n",
    "net = NeuralNetClassifier(\n",
    "    Net,\n",
    "    module__encoded_space_dim=10,\n",
    "    optimizer=torch.optim.Adam,\n",
    "    criterion=nn.CrossEntropyLoss(),\n",
    "    max_epochs=50,\n",
    "    train_split=None,\n",
    "    verbose=0,\n",
    "    device='cuda'\n",
    ")\n",
    "\n",
    "params = {\n",
    "    'batch_size': [300,600],\n",
    "    'module__p': [0,0.25,0.5],\n",
    "    'optimizer__weight_decay': [0,1e-5,1e-4]\n",
    "}\n",
    "\n",
    "gs = GridSearchCV(net, params, refit=False, cv=3, scoring='accuracy',verbose=2,error_score='raise')\n",
    "\n",
    "train_dataloader = DataLoader(train_dataset,batch_size=len(train_dataset), shuffle=False, num_workers=0)\n",
    "test_dataloader = DataLoader(test_dataset,batch_size=len(test_dataset), shuffle=False, num_workers=0)\n",
    "\n",
    "dataiter = iter(train_dataloader)\n",
    "X_train, y_train = dataiter.next()\n",
    "X_train = X_train.numpy()\n",
    "y_train = y_train.numpy()\n",
    "\n",
    "gs.fit(X_train, y_train)\n",
    "print(gs.best_score_, gs.best_params_)"
   ]
  },
  {
   "cell_type": "code",
   "execution_count": 8,
   "metadata": {
    "id": "mQIkcSQpURXC"
   },
   "outputs": [
    {
     "name": "stdout",
     "output_type": "stream",
     "text": [
      "Best parameters:\n",
      "0.8723166666666667 {'batch_size': 300, 'module__p': 0, 'optimizer__weight_decay': 0.0001}\n"
     ]
    }
   ],
   "source": [
    "print('Best parameters:')\n",
    "print(gs.best_score_, gs.best_params_)"
   ]
  },
  {
   "cell_type": "code",
   "execution_count": 12,
   "metadata": {
    "colab": {
     "base_uri": "https://localhost:8080/"
    },
    "id": "MMgAW9iATP1k",
    "outputId": "cb8cd4cd-f179-4556-8912-0ebcd9282b5a"
   },
   "outputs": [
    {
     "data": {
      "text/plain": [
       "<All keys matched successfully>"
      ]
     },
     "execution_count": 12,
     "metadata": {},
     "output_type": "execute_result"
    }
   ],
   "source": [
    "net.save_params(f_params='params.pth')\n",
    "classifier = Net(10,0)\n",
    "classifier.load_state_dict(torch.load('params.pth'))"
   ]
  },
  {
   "cell_type": "code",
   "execution_count": 13,
   "metadata": {
    "colab": {
     "base_uri": "https://localhost:8080/",
     "height": 835
    },
    "id": "XAKOpYpm90Z-",
    "outputId": "8fdf2621-edcb-4ff4-f571-f97c68e55cff"
   },
   "outputs": [
    {
     "data": {
      "image/png": "[encoded data removed]",
      "text/plain": [
       "<Figure size 576x576 with 8 Axes>"
      ]
     },
     "metadata": {},
     "output_type": "display_data"
    },
    {
     "data": {
      "image/png": "[encoded data removed]",
      "text/plain": [
       "<Figure size 576x576 with 128 Axes>"
      ]
     },
     "metadata": {},
     "output_type": "display_data"
    },
    {
     "data": {
      "image/png": "[encoded data removed]",
      "text/plain": [
       "<Figure size 576x576 with 512 Axes>"
      ]
     },
     "metadata": {},
     "output_type": "display_data"
    }
   ],
   "source": [
    "weights_l1 = classifier.encoder_cnn[0].weight.data.cpu().numpy()\n",
    "weights_l2 = classifier.encoder_cnn[3].weight.data.cpu().numpy()\n",
    "weights_l3 = classifier.encoder_cnn[6].weight.data.cpu().numpy()\n",
    "\n",
    "### Plot the weights (this is a utility function, no need to analyze this code)\n",
    "def plot_nchw_data(data, h_num, v_num, title):\n",
    "    fig, axs = plt.subplots(h_num, v_num, figsize=(8,8))\n",
    "    shape = data.shape\n",
    "    data = data.reshape(shape[0]*shape[1], shape[2], shape[3])\n",
    "    for idx, ax in enumerate(axs.flatten()):\n",
    "        ax.set_xticks([])\n",
    "        ax.set_yticks([])\n",
    "        if idx < len(data):\n",
    "            ax.imshow(data[idx,:,:], cmap='gray')\n",
    "    plt.suptitle(title)\n",
    "    plt.tight_layout(rect=[0, 0, 1, 0.97], h_pad=0, w_pad=0)\n",
    "    plt.show()\n",
    "\n",
    "plot_nchw_data(weights_l1, 1, 8, 'Layer 1 convolutional kernels')\n",
    "plot_nchw_data(weights_l2, 8, 16, 'Layer 2 convolutional kernels')\n",
    "plot_nchw_data(weights_l3, 16, 32, 'Layer 3 convolutional kernels')"
   ]
  },
  {
   "cell_type": "code",
   "execution_count": 14,
   "metadata": {
    "colab": {
     "base_uri": "https://localhost:8080/",
     "height": 1000
    },
    "id": "KU3A5BgaZVKr",
    "outputId": "fc96428f-5b13-48ff-b364-9ff67bbe6bc7"
   },
   "outputs": [
    {
     "name": "stdout",
     "output_type": "stream",
     "text": [
      "Net(\n",
      "  (encoder_cnn): Sequential(\n",
      "    (0): Conv2d(1, 8, kernel_size=(3, 3), stride=(2, 2), padding=(1, 1))\n",
      "    (1): ReLU(inplace=True)\n",
      "    (2): Dropout2d(p=0, inplace=False)\n",
      "    (3): Conv2d(8, 16, kernel_size=(3, 3), stride=(2, 2), padding=(1, 1))\n",
      "    (4): ReLU(inplace=True)\n",
      "    (5): Dropout2d(p=0, inplace=False)\n",
      "    (6): Conv2d(16, 32, kernel_size=(3, 3), stride=(2, 2))\n",
      "    (7): ReLU(inplace=True)\n",
      "    (8): Dropout2d(p=0, inplace=False)\n",
      "  )\n",
      "  (flatten): Flatten(start_dim=1, end_dim=-1)\n",
      "  (encoder_lin): Sequential(\n",
      "    (0): Linear(in_features=288, out_features=64, bias=True)\n",
      "    (1): ReLU(inplace=True)\n",
      "    (2): Dropout(p=0, inplace=False)\n",
      "    (3): Linear(in_features=64, out_features=10, bias=True)\n",
      "    (4): Softmax(dim=-1)\n",
      "  )\n",
      ")\n"
     ]
    },
    {
     "data": {
      "image/png": "[encoded data removed]",
      "text/plain": [
       "<Figure size 432x288 with 1 Axes>"
      ]
     },
     "metadata": {
      "needs_background": "light"
     },
     "output_type": "display_data"
    },
    {
     "data": {
      "image/png": "[encoded data removed]",
      "text/plain": [
       "<Figure size 576x576 with 8 Axes>"
      ]
     },
     "metadata": {},
     "output_type": "display_data"
    },
    {
     "data": {
      "image/png": "[encoded data removed]",
      "text/plain": [
       "<Figure size 576x576 with 16 Axes>"
      ]
     },
     "metadata": {},
     "output_type": "display_data"
    },
    {
     "data": {
      "image/png": "[encoded data removed]",
      "text/plain": [
       "<Figure size 576x576 with 24 Axes>"
      ]
     },
     "metadata": {},
     "output_type": "display_data"
    }
   ],
   "source": [
    "# Hook function to call during forward pass\n",
    "def hook_fn(module, input, output):\n",
    "    intermediate_outputs.append(output)\n",
    "\n",
    "# Attach hook function to all the convolutional layers\n",
    "hook_handles = [] # This list will contains all the handles required to remove the hooks later\n",
    "hook_handles.append(classifier.encoder_cnn[0].register_forward_hook(hook_fn))\n",
    "hook_handles.append(classifier.encoder_cnn[3].register_forward_hook(hook_fn))\n",
    "hook_handles.append(classifier.encoder_cnn[6].register_forward_hook(hook_fn))\n",
    "\n",
    "device = 'cuda'\n",
    "\n",
    "# Define input\n",
    "net_input = test_dataset[1][0].unsqueeze(0)\n",
    "net_input = net_input.to(device)\n",
    "\n",
    "# Show original image\n",
    "plt.imshow(test_dataset[1][0].squeeze(),cmap='gist_gray')\n",
    "\n",
    "classifier.to(device)\n",
    "print(classifier)\n",
    "\n",
    "# Evaluate output\n",
    "classifier.eval()\n",
    "with torch.no_grad():\n",
    "    intermediate_outputs = []\n",
    "    out = classifier(net_input)\n",
    "    # Now the intermediate_outputs list contains the intermediate outputs thanks to the hook function\n",
    "\n",
    "# Analyze intermediate outputs\n",
    "for layer_num, intermediate_output in enumerate(intermediate_outputs):\n",
    "    intermediate_output = intermediate_output.cpu().data.numpy()\n",
    "    # Plot\n",
    "    plot_nchw_data(intermediate_output, layer_num+1, 8, 'Layer %d convolutional kernels' % (layer_num + 1))"
   ]
  },
  {
   "cell_type": "code",
   "execution_count": 15,
   "metadata": {
    "id": "KLcfAs37hndw"
   },
   "outputs": [],
   "source": [
    "# Remove the hooks using the handles saved during the hooks definition\n",
    "for handle in hook_handles:\n",
    "  handle.remove()"
   ]
  }
 ],
 "metadata": {
  "accelerator": "GPU",
  "colab": {
   "collapsed_sections": [],
   "name": "nndl_2021__homework_1 (1).ipynb",
   "provenance": []
  },
  "environment": {
   "kernel": "python3",
   "name": "pytorch-gpu.1-9.m82",
   "type": "gcloud",
   "uri": "gcr.io/deeplearning-platform-release/pytorch-gpu.1-9:m82"
  },
  "kernelspec": {
   "display_name": "Python 3.9.1 64-bit",
   "name": "python391jvsc74a57bd0cef10acaf8519fb27b0e5131eacffe5e16d6a80ca8eef2a81aa365de1f2b7175"
  },
  "language_info": {
   "name": "python",
   "version": ""
  },
  "widgets": {
   "application/vnd.jupyter.widget-state+json": {
    "0c52b38acec9419ab890673530eb1adc": {
     "model_module": "@jupyter-widgets/controls",
     "model_module_version": "1.5.0",
     "model_name": "DescriptionStyleModel",
     "state": {
      "_model_module": "@jupyter-widgets/controls",
      "_model_module_version": "1.5.0",
      "_model_name": "DescriptionStyleModel",
      "_view_count": null,
      "_view_module": "@jupyter-widgets/base",
      "_view_module_version": "1.2.0",
      "_view_name": "StyleView",
      "description_width": ""
     }
    },
    "11e9fd2f21ad4e42a4cb18214c47ad2c": {
     "model_module": "@jupyter-widgets/controls",
     "model_module_version": "1.5.0",
     "model_name": "DescriptionStyleModel",
     "state": {
      "_model_module": "@jupyter-widgets/controls",
      "_model_module_version": "1.5.0",
      "_model_name": "DescriptionStyleModel",
      "_view_count": null,
      "_view_module": "@jupyter-widgets/base",
      "_view_module_version": "1.2.0",
      "_view_name": "StyleView",
      "description_width": ""
     }
    },
    "2278c671bfda4d3085b4eb6d489459ff": {
     "model_module": "@jupyter-widgets/base",
     "model_module_version": "1.2.0",
     "model_name": "LayoutModel",
     "state": {
      "_model_module": "@jupyter-widgets/base",
      "_model_module_version": "1.2.0",
      "_model_name": "LayoutModel",
      "_view_count": null,
      "_view_module": "@jupyter-widgets/base",
      "_view_module_version": "1.2.0",
      "_view_name": "LayoutView",
      "align_content": null,
      "align_items": null,
      "align_self": null,
      "border": null,
      "bottom": null,
      "display": null,
      "flex": null,
      "flex_flow": null,
      "grid_area": null,
      "grid_auto_columns": null,
      "grid_auto_flow": null,
      "grid_auto_rows": null,
      "grid_column": null,
      "grid_gap": null,
      "grid_row": null,
      "grid_template_areas": null,
      "grid_template_columns": null,
      "grid_template_rows": null,
      "height": null,
      "justify_content": null,
      "justify_items": null,
      "left": null,
      "margin": null,
      "max_height": null,
      "max_width": null,
      "min_height": null,
      "min_width": null,
      "object_fit": null,
      "object_position": null,
      "order": null,
      "overflow": null,
      "overflow_x": null,
      "overflow_y": null,
      "padding": null,
      "right": null,
      "top": null,
      "visibility": null,
      "width": null
     }
    },
    "253c56eab1cb4f6e85d2b3a1f6594638": {
     "model_module": "@jupyter-widgets/controls",
     "model_module_version": "1.5.0",
     "model_name": "DescriptionStyleModel",
     "state": {
      "_model_module": "@jupyter-widgets/controls",
      "_model_module_version": "1.5.0",
      "_model_name": "DescriptionStyleModel",
      "_view_count": null,
      "_view_module": "@jupyter-widgets/base",
      "_view_module_version": "1.2.0",
      "_view_name": "StyleView",
      "description_width": ""
     }
    },
    "36e556d1719a4086a20e2d3c82b5e90e": {
     "model_module": "@jupyter-widgets/base",
     "model_module_version": "1.2.0",
     "model_name": "LayoutModel",
     "state": {
      "_model_module": "@jupyter-widgets/base",
      "_model_module_version": "1.2.0",
      "_model_name": "LayoutModel",
      "_view_count": null,
      "_view_module": "@jupyter-widgets/base",
      "_view_module_version": "1.2.0",
      "_view_name": "LayoutView",
      "align_content": null,
      "align_items": null,
      "align_self": null,
      "border": null,
      "bottom": null,
      "display": null,
      "flex": null,
      "flex_flow": null,
      "grid_area": null,
      "grid_auto_columns": null,
      "grid_auto_flow": null,
      "grid_auto_rows": null,
      "grid_column": null,
      "grid_gap": null,
      "grid_row": null,
      "grid_template_areas": null,
      "grid_template_columns": null,
      "grid_template_rows": null,
      "height": null,
      "justify_content": null,
      "justify_items": null,
      "left": null,
      "margin": null,
      "max_height": null,
      "max_width": null,
      "min_height": null,
      "min_width": null,
      "object_fit": null,
      "object_position": null,
      "order": null,
      "overflow": null,
      "overflow_x": null,
      "overflow_y": null,
      "padding": null,
      "right": null,
      "top": null,
      "visibility": null,
      "width": null
     }
    },
    "3915791083c74b8fb8a541f8ffd98025": {
     "model_module": "@jupyter-widgets/controls",
     "model_module_version": "1.5.0",
     "model_name": "DescriptionStyleModel",
     "state": {
      "_model_module": "@jupyter-widgets/controls",
      "_model_module_version": "1.5.0",
      "_model_name": "DescriptionStyleModel",
      "_view_count": null,
      "_view_module": "@jupyter-widgets/base",
      "_view_module_version": "1.2.0",
      "_view_name": "StyleView",
      "description_width": ""
     }
    },
    "4311b2e8865f4cf0bd9734995a99c3cf": {
     "model_module": "@jupyter-widgets/controls",
     "model_module_version": "1.5.0",
     "model_name": "FloatProgressModel",
     "state": {
      "_dom_classes": [],
      "_model_module": "@jupyter-widgets/controls",
      "_model_module_version": "1.5.0",
      "_model_name": "FloatProgressModel",
      "_view_count": null,
      "_view_module": "@jupyter-widgets/controls",
      "_view_module_version": "1.5.0",
      "_view_name": "ProgressView",
      "bar_style": "success",
      "description": "",
      "description_tooltip": null,
      "layout": "IPY_MODEL_7bfdf836ef0e4e0aa224cd0ab2747b99",
      "max": 29515,
      "min": 0,
      "orientation": "horizontal",
      "style": "IPY_MODEL_c4ec98c465294a479062c3c31160368d",
      "value": 29515
     }
    },
    "44f3567c6c8f4b4fabfd8f0394b80c07": {
     "model_module": "@jupyter-widgets/controls",
     "model_module_version": "1.5.0",
     "model_name": "DescriptionStyleModel",
     "state": {
      "_model_module": "@jupyter-widgets/controls",
      "_model_module_version": "1.5.0",
      "_model_name": "DescriptionStyleModel",
      "_view_count": null,
      "_view_module": "@jupyter-widgets/base",
      "_view_module_version": "1.2.0",
      "_view_name": "StyleView",
      "description_width": ""
     }
    },
    "4c6065f55cd64cb8a14060a432ff92cd": {
     "model_module": "@jupyter-widgets/base",
     "model_module_version": "1.2.0",
     "model_name": "LayoutModel",
     "state": {
      "_model_module": "@jupyter-widgets/base",
      "_model_module_version": "1.2.0",
      "_model_name": "LayoutModel",
      "_view_count": null,
      "_view_module": "@jupyter-widgets/base",
      "_view_module_version": "1.2.0",
      "_view_name": "LayoutView",
      "align_content": null,
      "align_items": null,
      "align_self": null,
      "border": null,
      "bottom": null,
      "display": null,
      "flex": null,
      "flex_flow": null,
      "grid_area": null,
      "grid_auto_columns": null,
      "grid_auto_flow": null,
      "grid_auto_rows": null,
      "grid_column": null,
      "grid_gap": null,
      "grid_row": null,
      "grid_template_areas": null,
      "grid_template_columns": null,
      "grid_template_rows": null,
      "height": null,
      "justify_content": null,
      "justify_items": null,
      "left": null,
      "margin": null,
      "max_height": null,
      "max_width": null,
      "min_height": null,
      "min_width": null,
      "object_fit": null,
      "object_position": null,
      "order": null,
      "overflow": null,
      "overflow_x": null,
      "overflow_y": null,
      "padding": null,
      "right": null,
      "top": null,
      "visibility": null,
      "width": null
     }
    },
    "4e4251857a8a46478648638ab931ff8e": {
     "model_module": "@jupyter-widgets/base",
     "model_module_version": "1.2.0",
     "model_name": "LayoutModel",
     "state": {
      "_model_module": "@jupyter-widgets/base",
      "_model_module_version": "1.2.0",
      "_model_name": "LayoutModel",
      "_view_count": null,
      "_view_module": "@jupyter-widgets/base",
      "_view_module_version": "1.2.0",
      "_view_name": "LayoutView",
      "align_content": null,
      "align_items": null,
      "align_self": null,
      "border": null,
      "bottom": null,
      "display": null,
      "flex": null,
      "flex_flow": null,
      "grid_area": null,
      "grid_auto_columns": null,
      "grid_auto_flow": null,
      "grid_auto_rows": null,
      "grid_column": null,
      "grid_gap": null,
      "grid_row": null,
      "grid_template_areas": null,
      "grid_template_columns": null,
      "grid_template_rows": null,
      "height": null,
      "justify_content": null,
      "justify_items": null,
      "left": null,
      "margin": null,
      "max_height": null,
      "max_width": null,
      "min_height": null,
      "min_width": null,
      "object_fit": null,
      "object_position": null,
      "order": null,
      "overflow": null,
      "overflow_x": null,
      "overflow_y": null,
      "padding": null,
      "right": null,
      "top": null,
      "visibility": null,
      "width": null
     }
    },
    "4ede592319a94a9a8bc0fa3af91e932e": {
     "model_module": "@jupyter-widgets/base",
     "model_module_version": "1.2.0",
     "model_name": "LayoutModel",
     "state": {
      "_model_module": "@jupyter-widgets/base",
      "_model_module_version": "1.2.0",
      "_model_name": "LayoutModel",
      "_view_count": null,
      "_view_module": "@jupyter-widgets/base",
      "_view_module_version": "1.2.0",
      "_view_name": "LayoutView",
      "align_content": null,
      "align_items": null,
      "align_self": null,
      "border": null,
      "bottom": null,
      "display": null,
      "flex": null,
      "flex_flow": null,
      "grid_area": null,
      "grid_auto_columns": null,
      "grid_auto_flow": null,
      "grid_auto_rows": null,
      "grid_column": null,
      "grid_gap": null,
      "grid_row": null,
      "grid_template_areas": null,
      "grid_template_columns": null,
      "grid_template_rows": null,
      "height": null,
      "justify_content": null,
      "justify_items": null,
      "left": null,
      "margin": null,
      "max_height": null,
      "max_width": null,
      "min_height": null,
      "min_width": null,
      "object_fit": null,
      "object_position": null,
      "order": null,
      "overflow": null,
      "overflow_x": null,
      "overflow_y": null,
      "padding": null,
      "right": null,
      "top": null,
      "visibility": null,
      "width": null
     }
    },
    "4efe6b6cabc244248313d1d54ed64f47": {
     "model_module": "@jupyter-widgets/controls",
     "model_module_version": "1.5.0",
     "model_name": "HTMLModel",
     "state": {
      "_dom_classes": [],
      "_model_module": "@jupyter-widgets/controls",
      "_model_module_version": "1.5.0",
      "_model_name": "HTMLModel",
      "_view_count": null,
      "_view_module": "@jupyter-widgets/controls",
      "_view_module_version": "1.5.0",
      "_view_name": "HTMLView",
      "description": "",
      "description_tooltip": null,
      "layout": "IPY_MODEL_4c6065f55cd64cb8a14060a432ff92cd",
      "placeholder": "​",
      "style": "IPY_MODEL_3915791083c74b8fb8a541f8ffd98025",
      "value": ""
     }
    },
    "50d408f074cc46b0b65f4a5bfa936f74": {
     "model_module": "@jupyter-widgets/controls",
     "model_module_version": "1.5.0",
     "model_name": "HBoxModel",
     "state": {
      "_dom_classes": [],
      "_model_module": "@jupyter-widgets/controls",
      "_model_module_version": "1.5.0",
      "_model_name": "HBoxModel",
      "_view_count": null,
      "_view_module": "@jupyter-widgets/controls",
      "_view_module_version": "1.5.0",
      "_view_name": "HBoxView",
      "box_style": "",
      "children": [
       "IPY_MODEL_4efe6b6cabc244248313d1d54ed64f47",
       "IPY_MODEL_be748c3259b34e1982c6ef9167452f26",
       "IPY_MODEL_bff5d848d8364a33801f5f673aa67b18"
      ],
      "layout": "IPY_MODEL_4ede592319a94a9a8bc0fa3af91e932e"
     }
    },
    "541223b0e42d44c9a1aba12f5d8dc15d": {
     "model_module": "@jupyter-widgets/controls",
     "model_module_version": "1.5.0",
     "model_name": "HTMLModel",
     "state": {
      "_dom_classes": [],
      "_model_module": "@jupyter-widgets/controls",
      "_model_module_version": "1.5.0",
      "_model_name": "HTMLModel",
      "_view_count": null,
      "_view_module": "@jupyter-widgets/controls",
      "_view_module_version": "1.5.0",
      "_view_name": "HTMLView",
      "description": "",
      "description_tooltip": null,
      "layout": "IPY_MODEL_7682eb5d8c824e5696ad97a572376c6a",
      "placeholder": "​",
      "style": "IPY_MODEL_0c52b38acec9419ab890673530eb1adc",
      "value": ""
     }
    },
    "5973f127b722476c9fe15e6b6440b38a": {
     "model_module": "@jupyter-widgets/controls",
     "model_module_version": "1.5.0",
     "model_name": "FloatProgressModel",
     "state": {
      "_dom_classes": [],
      "_model_module": "@jupyter-widgets/controls",
      "_model_module_version": "1.5.0",
      "_model_name": "FloatProgressModel",
      "_view_count": null,
      "_view_module": "@jupyter-widgets/controls",
      "_view_module_version": "1.5.0",
      "_view_name": "ProgressView",
      "bar_style": "success",
      "description": "",
      "description_tooltip": null,
      "layout": "IPY_MODEL_2278c671bfda4d3085b4eb6d489459ff",
      "max": 26421880,
      "min": 0,
      "orientation": "horizontal",
      "style": "IPY_MODEL_f34d14605849459ab5af730ff9789fae",
      "value": 26421880
     }
    },
    "5e659ef9b7da4fb98e521c050395b34d": {
     "model_module": "@jupyter-widgets/base",
     "model_module_version": "1.2.0",
     "model_name": "LayoutModel",
     "state": {
      "_model_module": "@jupyter-widgets/base",
      "_model_module_version": "1.2.0",
      "_model_name": "LayoutModel",
      "_view_count": null,
      "_view_module": "@jupyter-widgets/base",
      "_view_module_version": "1.2.0",
      "_view_name": "LayoutView",
      "align_content": null,
      "align_items": null,
      "align_self": null,
      "border": null,
      "bottom": null,
      "display": null,
      "flex": null,
      "flex_flow": null,
      "grid_area": null,
      "grid_auto_columns": null,
      "grid_auto_flow": null,
      "grid_auto_rows": null,
      "grid_column": null,
      "grid_gap": null,
      "grid_row": null,
      "grid_template_areas": null,
      "grid_template_columns": null,
      "grid_template_rows": null,
      "height": null,
      "justify_content": null,
      "justify_items": null,
      "left": null,
      "margin": null,
      "max_height": null,
      "max_width": null,
      "min_height": null,
      "min_width": null,
      "object_fit": null,
      "object_position": null,
      "order": null,
      "overflow": null,
      "overflow_x": null,
      "overflow_y": null,
      "padding": null,
      "right": null,
      "top": null,
      "visibility": null,
      "width": null
     }
    },
    "5e6981f1f32545b1b9bb6706a5147f0e": {
     "model_module": "@jupyter-widgets/base",
     "model_module_version": "1.2.0",
     "model_name": "LayoutModel",
     "state": {
      "_model_module": "@jupyter-widgets/base",
      "_model_module_version": "1.2.0",
      "_model_name": "LayoutModel",
      "_view_count": null,
      "_view_module": "@jupyter-widgets/base",
      "_view_module_version": "1.2.0",
      "_view_name": "LayoutView",
      "align_content": null,
      "align_items": null,
      "align_self": null,
      "border": null,
      "bottom": null,
      "display": null,
      "flex": null,
      "flex_flow": null,
      "grid_area": null,
      "grid_auto_columns": null,
      "grid_auto_flow": null,
      "grid_auto_rows": null,
      "grid_column": null,
      "grid_gap": null,
      "grid_row": null,
      "grid_template_areas": null,
      "grid_template_columns": null,
      "grid_template_rows": null,
      "height": null,
      "justify_content": null,
      "justify_items": null,
      "left": null,
      "margin": null,
      "max_height": null,
      "max_width": null,
      "min_height": null,
      "min_width": null,
      "object_fit": null,
      "object_position": null,
      "order": null,
      "overflow": null,
      "overflow_x": null,
      "overflow_y": null,
      "padding": null,
      "right": null,
      "top": null,
      "visibility": null,
      "width": null
     }
    },
    "6b1a7e2d17af434faaed0cb8dad425bb": {
     "model_module": "@jupyter-widgets/base",
     "model_module_version": "1.2.0",
     "model_name": "LayoutModel",
     "state": {
      "_model_module": "@jupyter-widgets/base",
      "_model_module_version": "1.2.0",
      "_model_name": "LayoutModel",
      "_view_count": null,
      "_view_module": "@jupyter-widgets/base",
      "_view_module_version": "1.2.0",
      "_view_name": "LayoutView",
      "align_content": null,
      "align_items": null,
      "align_self": null,
      "border": null,
      "bottom": null,
      "display": null,
      "flex": null,
      "flex_flow": null,
      "grid_area": null,
      "grid_auto_columns": null,
      "grid_auto_flow": null,
      "grid_auto_rows": null,
      "grid_column": null,
      "grid_gap": null,
      "grid_row": null,
      "grid_template_areas": null,
      "grid_template_columns": null,
      "grid_template_rows": null,
      "height": null,
      "justify_content": null,
      "justify_items": null,
      "left": null,
      "margin": null,
      "max_height": null,
      "max_width": null,
      "min_height": null,
      "min_width": null,
      "object_fit": null,
      "object_position": null,
      "order": null,
      "overflow": null,
      "overflow_x": null,
      "overflow_y": null,
      "padding": null,
      "right": null,
      "top": null,
      "visibility": null,
      "width": null
     }
    },
    "756c3e1cfa4b4e6d8b83535a6729c934": {
     "model_module": "@jupyter-widgets/controls",
     "model_module_version": "1.5.0",
     "model_name": "HBoxModel",
     "state": {
      "_dom_classes": [],
      "_model_module": "@jupyter-widgets/controls",
      "_model_module_version": "1.5.0",
      "_model_name": "HBoxModel",
      "_view_count": null,
      "_view_module": "@jupyter-widgets/controls",
      "_view_module_version": "1.5.0",
      "_view_name": "HBoxView",
      "box_style": "",
      "children": [
       "IPY_MODEL_f81f56c7d7bb4681a2fc18fe2919ea75",
       "IPY_MODEL_4311b2e8865f4cf0bd9734995a99c3cf",
       "IPY_MODEL_8cb48593074948b5939b87605101346e"
      ],
      "layout": "IPY_MODEL_5e6981f1f32545b1b9bb6706a5147f0e"
     }
    },
    "7682eb5d8c824e5696ad97a572376c6a": {
     "model_module": "@jupyter-widgets/base",
     "model_module_version": "1.2.0",
     "model_name": "LayoutModel",
     "state": {
      "_model_module": "@jupyter-widgets/base",
      "_model_module_version": "1.2.0",
      "_model_name": "LayoutModel",
      "_view_count": null,
      "_view_module": "@jupyter-widgets/base",
      "_view_module_version": "1.2.0",
      "_view_name": "LayoutView",
      "align_content": null,
      "align_items": null,
      "align_self": null,
      "border": null,
      "bottom": null,
      "display": null,
      "flex": null,
      "flex_flow": null,
      "grid_area": null,
      "grid_auto_columns": null,
      "grid_auto_flow": null,
      "grid_auto_rows": null,
      "grid_column": null,
      "grid_gap": null,
      "grid_row": null,
      "grid_template_areas": null,
      "grid_template_columns": null,
      "grid_template_rows": null,
      "height": null,
      "justify_content": null,
      "justify_items": null,
      "left": null,
      "margin": null,
      "max_height": null,
      "max_width": null,
      "min_height": null,
      "min_width": null,
      "object_fit": null,
      "object_position": null,
      "order": null,
      "overflow": null,
      "overflow_x": null,
      "overflow_y": null,
      "padding": null,
      "right": null,
      "top": null,
      "visibility": null,
      "width": null
     }
    },
    "7a0a13e5fb3548b7b3de8db74be62914": {
     "model_module": "@jupyter-widgets/controls",
     "model_module_version": "1.5.0",
     "model_name": "HTMLModel",
     "state": {
      "_dom_classes": [],
      "_model_module": "@jupyter-widgets/controls",
      "_model_module_version": "1.5.0",
      "_model_name": "HTMLModel",
      "_view_count": null,
      "_view_module": "@jupyter-widgets/controls",
      "_view_module_version": "1.5.0",
      "_view_name": "HTMLView",
      "description": "",
      "description_tooltip": null,
      "layout": "IPY_MODEL_9838819465a3471c8e47127ced45b19a",
      "placeholder": "​",
      "style": "IPY_MODEL_f723fd17530548b3b7bc4bea9080d3b1",
      "value": " 26422272/? [00:01&lt;00:00, 24324311.92it/s]"
     }
    },
    "7bfdf836ef0e4e0aa224cd0ab2747b99": {
     "model_module": "@jupyter-widgets/base",
     "model_module_version": "1.2.0",
     "model_name": "LayoutModel",
     "state": {
      "_model_module": "@jupyter-widgets/base",
      "_model_module_version": "1.2.0",
      "_model_name": "LayoutModel",
      "_view_count": null,
      "_view_module": "@jupyter-widgets/base",
      "_view_module_version": "1.2.0",
      "_view_name": "LayoutView",
      "align_content": null,
      "align_items": null,
      "align_self": null,
      "border": null,
      "bottom": null,
      "display": null,
      "flex": null,
      "flex_flow": null,
      "grid_area": null,
      "grid_auto_columns": null,
      "grid_auto_flow": null,
      "grid_auto_rows": null,
      "grid_column": null,
      "grid_gap": null,
      "grid_row": null,
      "grid_template_areas": null,
      "grid_template_columns": null,
      "grid_template_rows": null,
      "height": null,
      "justify_content": null,
      "justify_items": null,
      "left": null,
      "margin": null,
      "max_height": null,
      "max_width": null,
      "min_height": null,
      "min_width": null,
      "object_fit": null,
      "object_position": null,
      "order": null,
      "overflow": null,
      "overflow_x": null,
      "overflow_y": null,
      "padding": null,
      "right": null,
      "top": null,
      "visibility": null,
      "width": null
     }
    },
    "7f5bc3bf554e49c9a00183c68c3b5fca": {
     "model_module": "@jupyter-widgets/base",
     "model_module_version": "1.2.0",
     "model_name": "LayoutModel",
     "state": {
      "_model_module": "@jupyter-widgets/base",
      "_model_module_version": "1.2.0",
      "_model_name": "LayoutModel",
      "_view_count": null,
      "_view_module": "@jupyter-widgets/base",
      "_view_module_version": "1.2.0",
      "_view_name": "LayoutView",
      "align_content": null,
      "align_items": null,
      "align_self": null,
      "border": null,
      "bottom": null,
      "display": null,
      "flex": null,
      "flex_flow": null,
      "grid_area": null,
      "grid_auto_columns": null,
      "grid_auto_flow": null,
      "grid_auto_rows": null,
      "grid_column": null,
      "grid_gap": null,
      "grid_row": null,
      "grid_template_areas": null,
      "grid_template_columns": null,
      "grid_template_rows": null,
      "height": null,
      "justify_content": null,
      "justify_items": null,
      "left": null,
      "margin": null,
      "max_height": null,
      "max_width": null,
      "min_height": null,
      "min_width": null,
      "object_fit": null,
      "object_position": null,
      "order": null,
      "overflow": null,
      "overflow_x": null,
      "overflow_y": null,
      "padding": null,
      "right": null,
      "top": null,
      "visibility": null,
      "width": null
     }
    },
    "80b75f422f2841ca82f50baadbf83cee": {
     "model_module": "@jupyter-widgets/base",
     "model_module_version": "1.2.0",
     "model_name": "LayoutModel",
     "state": {
      "_model_module": "@jupyter-widgets/base",
      "_model_module_version": "1.2.0",
      "_model_name": "LayoutModel",
      "_view_count": null,
      "_view_module": "@jupyter-widgets/base",
      "_view_module_version": "1.2.0",
      "_view_name": "LayoutView",
      "align_content": null,
      "align_items": null,
      "align_self": null,
      "border": null,
      "bottom": null,
      "display": null,
      "flex": null,
      "flex_flow": null,
      "grid_area": null,
      "grid_auto_columns": null,
      "grid_auto_flow": null,
      "grid_auto_rows": null,
      "grid_column": null,
      "grid_gap": null,
      "grid_row": null,
      "grid_template_areas": null,
      "grid_template_columns": null,
      "grid_template_rows": null,
      "height": null,
      "justify_content": null,
      "justify_items": null,
      "left": null,
      "margin": null,
      "max_height": null,
      "max_width": null,
      "min_height": null,
      "min_width": null,
      "object_fit": null,
      "object_position": null,
      "order": null,
      "overflow": null,
      "overflow_x": null,
      "overflow_y": null,
      "padding": null,
      "right": null,
      "top": null,
      "visibility": null,
      "width": null
     }
    },
    "8216ebbd07404b659c5b40fa867e0abc": {
     "model_module": "@jupyter-widgets/controls",
     "model_module_version": "1.5.0",
     "model_name": "HTMLModel",
     "state": {
      "_dom_classes": [],
      "_model_module": "@jupyter-widgets/controls",
      "_model_module_version": "1.5.0",
      "_model_name": "HTMLModel",
      "_view_count": null,
      "_view_module": "@jupyter-widgets/controls",
      "_view_module_version": "1.5.0",
      "_view_name": "HTMLView",
      "description": "",
      "description_tooltip": null,
      "layout": "IPY_MODEL_5e659ef9b7da4fb98e521c050395b34d",
      "placeholder": "​",
      "style": "IPY_MODEL_44f3567c6c8f4b4fabfd8f0394b80c07",
      "value": " 6144/? [00:00&lt;00:00, 164120.06it/s]"
     }
    },
    "8a462f9d00a64006bfa924e18b124999": {
     "model_module": "@jupyter-widgets/controls",
     "model_module_version": "1.5.0",
     "model_name": "DescriptionStyleModel",
     "state": {
      "_model_module": "@jupyter-widgets/controls",
      "_model_module_version": "1.5.0",
      "_model_name": "DescriptionStyleModel",
      "_view_count": null,
      "_view_module": "@jupyter-widgets/base",
      "_view_module_version": "1.2.0",
      "_view_name": "StyleView",
      "description_width": ""
     }
    },
    "8c5de3bb6613461db3c873ab519bccd9": {
     "model_module": "@jupyter-widgets/controls",
     "model_module_version": "1.5.0",
     "model_name": "HBoxModel",
     "state": {
      "_dom_classes": [],
      "_model_module": "@jupyter-widgets/controls",
      "_model_module_version": "1.5.0",
      "_model_name": "HBoxModel",
      "_view_count": null,
      "_view_module": "@jupyter-widgets/controls",
      "_view_module_version": "1.5.0",
      "_view_name": "HBoxView",
      "box_style": "",
      "children": [
       "IPY_MODEL_9e6031461d044fc18288ed508ca81f90",
       "IPY_MODEL_5973f127b722476c9fe15e6b6440b38a",
       "IPY_MODEL_7a0a13e5fb3548b7b3de8db74be62914"
      ],
      "layout": "IPY_MODEL_4e4251857a8a46478648638ab931ff8e"
     }
    },
    "8cb48593074948b5939b87605101346e": {
     "model_module": "@jupyter-widgets/controls",
     "model_module_version": "1.5.0",
     "model_name": "HTMLModel",
     "state": {
      "_dom_classes": [],
      "_model_module": "@jupyter-widgets/controls",
      "_model_module_version": "1.5.0",
      "_model_name": "HTMLModel",
      "_view_count": null,
      "_view_module": "@jupyter-widgets/controls",
      "_view_module_version": "1.5.0",
      "_view_name": "HTMLView",
      "description": "",
      "description_tooltip": null,
      "layout": "IPY_MODEL_6b1a7e2d17af434faaed0cb8dad425bb",
      "placeholder": "​",
      "style": "IPY_MODEL_253c56eab1cb4f6e85d2b3a1f6594638",
      "value": " 29696/? [00:00&lt;00:00, 134308.57it/s]"
     }
    },
    "8d55f19204014c34a57586aebc26791d": {
     "model_module": "@jupyter-widgets/base",
     "model_module_version": "1.2.0",
     "model_name": "LayoutModel",
     "state": {
      "_model_module": "@jupyter-widgets/base",
      "_model_module_version": "1.2.0",
      "_model_name": "LayoutModel",
      "_view_count": null,
      "_view_module": "@jupyter-widgets/base",
      "_view_module_version": "1.2.0",
      "_view_name": "LayoutView",
      "align_content": null,
      "align_items": null,
      "align_self": null,
      "border": null,
      "bottom": null,
      "display": null,
      "flex": null,
      "flex_flow": null,
      "grid_area": null,
      "grid_auto_columns": null,
      "grid_auto_flow": null,
      "grid_auto_rows": null,
      "grid_column": null,
      "grid_gap": null,
      "grid_row": null,
      "grid_template_areas": null,
      "grid_template_columns": null,
      "grid_template_rows": null,
      "height": null,
      "justify_content": null,
      "justify_items": null,
      "left": null,
      "margin": null,
      "max_height": null,
      "max_width": null,
      "min_height": null,
      "min_width": null,
      "object_fit": null,
      "object_position": null,
      "order": null,
      "overflow": null,
      "overflow_x": null,
      "overflow_y": null,
      "padding": null,
      "right": null,
      "top": null,
      "visibility": null,
      "width": null
     }
    },
    "9838819465a3471c8e47127ced45b19a": {
     "model_module": "@jupyter-widgets/base",
     "model_module_version": "1.2.0",
     "model_name": "LayoutModel",
     "state": {
      "_model_module": "@jupyter-widgets/base",
      "_model_module_version": "1.2.0",
      "_model_name": "LayoutModel",
      "_view_count": null,
      "_view_module": "@jupyter-widgets/base",
      "_view_module_version": "1.2.0",
      "_view_name": "LayoutView",
      "align_content": null,
      "align_items": null,
      "align_self": null,
      "border": null,
      "bottom": null,
      "display": null,
      "flex": null,
      "flex_flow": null,
      "grid_area": null,
      "grid_auto_columns": null,
      "grid_auto_flow": null,
      "grid_auto_rows": null,
      "grid_column": null,
      "grid_gap": null,
      "grid_row": null,
      "grid_template_areas": null,
      "grid_template_columns": null,
      "grid_template_rows": null,
      "height": null,
      "justify_content": null,
      "justify_items": null,
      "left": null,
      "margin": null,
      "max_height": null,
      "max_width": null,
      "min_height": null,
      "min_width": null,
      "object_fit": null,
      "object_position": null,
      "order": null,
      "overflow": null,
      "overflow_x": null,
      "overflow_y": null,
      "padding": null,
      "right": null,
      "top": null,
      "visibility": null,
      "width": null
     }
    },
    "9a6d4c3971524094b30bf9087515d663": {
     "model_module": "@jupyter-widgets/controls",
     "model_module_version": "1.5.0",
     "model_name": "ProgressStyleModel",
     "state": {
      "_model_module": "@jupyter-widgets/controls",
      "_model_module_version": "1.5.0",
      "_model_name": "ProgressStyleModel",
      "_view_count": null,
      "_view_module": "@jupyter-widgets/base",
      "_view_module_version": "1.2.0",
      "_view_name": "StyleView",
      "bar_color": null,
      "description_width": ""
     }
    },
    "9e6031461d044fc18288ed508ca81f90": {
     "model_module": "@jupyter-widgets/controls",
     "model_module_version": "1.5.0",
     "model_name": "HTMLModel",
     "state": {
      "_dom_classes": [],
      "_model_module": "@jupyter-widgets/controls",
      "_model_module_version": "1.5.0",
      "_model_name": "HTMLModel",
      "_view_count": null,
      "_view_module": "@jupyter-widgets/controls",
      "_view_module_version": "1.5.0",
      "_view_name": "HTMLView",
      "description": "",
      "description_tooltip": null,
      "layout": "IPY_MODEL_36e556d1719a4086a20e2d3c82b5e90e",
      "placeholder": "​",
      "style": "IPY_MODEL_11e9fd2f21ad4e42a4cb18214c47ad2c",
      "value": ""
     }
    },
    "a2271399da754b7e8c93ee6c399fa904": {
     "model_module": "@jupyter-widgets/controls",
     "model_module_version": "1.5.0",
     "model_name": "HBoxModel",
     "state": {
      "_dom_classes": [],
      "_model_module": "@jupyter-widgets/controls",
      "_model_module_version": "1.5.0",
      "_model_name": "HBoxModel",
      "_view_count": null,
      "_view_module": "@jupyter-widgets/controls",
      "_view_module_version": "1.5.0",
      "_view_name": "HBoxView",
      "box_style": "",
      "children": [
       "IPY_MODEL_541223b0e42d44c9a1aba12f5d8dc15d",
       "IPY_MODEL_b32578ad278943a3881082b92c61a937",
       "IPY_MODEL_8216ebbd07404b659c5b40fa867e0abc"
      ],
      "layout": "IPY_MODEL_8d55f19204014c34a57586aebc26791d"
     }
    },
    "a7b8efd43ce0470f8d8f85772b36ce8e": {
     "model_module": "@jupyter-widgets/base",
     "model_module_version": "1.2.0",
     "model_name": "LayoutModel",
     "state": {
      "_model_module": "@jupyter-widgets/base",
      "_model_module_version": "1.2.0",
      "_model_name": "LayoutModel",
      "_view_count": null,
      "_view_module": "@jupyter-widgets/base",
      "_view_module_version": "1.2.0",
      "_view_name": "LayoutView",
      "align_content": null,
      "align_items": null,
      "align_self": null,
      "border": null,
      "bottom": null,
      "display": null,
      "flex": null,
      "flex_flow": null,
      "grid_area": null,
      "grid_auto_columns": null,
      "grid_auto_flow": null,
      "grid_auto_rows": null,
      "grid_column": null,
      "grid_gap": null,
      "grid_row": null,
      "grid_template_areas": null,
      "grid_template_columns": null,
      "grid_template_rows": null,
      "height": null,
      "justify_content": null,
      "justify_items": null,
      "left": null,
      "margin": null,
      "max_height": null,
      "max_width": null,
      "min_height": null,
      "min_width": null,
      "object_fit": null,
      "object_position": null,
      "order": null,
      "overflow": null,
      "overflow_x": null,
      "overflow_y": null,
      "padding": null,
      "right": null,
      "top": null,
      "visibility": null,
      "width": null
     }
    },
    "b2c1c06bf26846a6ac0aa6cb9426e255": {
     "model_module": "@jupyter-widgets/controls",
     "model_module_version": "1.5.0",
     "model_name": "DescriptionStyleModel",
     "state": {
      "_model_module": "@jupyter-widgets/controls",
      "_model_module_version": "1.5.0",
      "_model_name": "DescriptionStyleModel",
      "_view_count": null,
      "_view_module": "@jupyter-widgets/base",
      "_view_module_version": "1.2.0",
      "_view_name": "StyleView",
      "description_width": ""
     }
    },
    "b32578ad278943a3881082b92c61a937": {
     "model_module": "@jupyter-widgets/controls",
     "model_module_version": "1.5.0",
     "model_name": "FloatProgressModel",
     "state": {
      "_dom_classes": [],
      "_model_module": "@jupyter-widgets/controls",
      "_model_module_version": "1.5.0",
      "_model_name": "FloatProgressModel",
      "_view_count": null,
      "_view_module": "@jupyter-widgets/controls",
      "_view_module_version": "1.5.0",
      "_view_name": "ProgressView",
      "bar_style": "success",
      "description": "",
      "description_tooltip": null,
      "layout": "IPY_MODEL_e5394f885cdf4cd5897fda11d196a22e",
      "max": 5148,
      "min": 0,
      "orientation": "horizontal",
      "style": "IPY_MODEL_9a6d4c3971524094b30bf9087515d663",
      "value": 5148
     }
    },
    "be748c3259b34e1982c6ef9167452f26": {
     "model_module": "@jupyter-widgets/controls",
     "model_module_version": "1.5.0",
     "model_name": "FloatProgressModel",
     "state": {
      "_dom_classes": [],
      "_model_module": "@jupyter-widgets/controls",
      "_model_module_version": "1.5.0",
      "_model_name": "FloatProgressModel",
      "_view_count": null,
      "_view_module": "@jupyter-widgets/controls",
      "_view_module_version": "1.5.0",
      "_view_name": "ProgressView",
      "bar_style": "success",
      "description": "",
      "description_tooltip": null,
      "layout": "IPY_MODEL_80b75f422f2841ca82f50baadbf83cee",
      "max": 4422102,
      "min": 0,
      "orientation": "horizontal",
      "style": "IPY_MODEL_c12e9f6828d242a494fbc53d77f89a85",
      "value": 4422102
     }
    },
    "bff5d848d8364a33801f5f673aa67b18": {
     "model_module": "@jupyter-widgets/controls",
     "model_module_version": "1.5.0",
     "model_name": "HTMLModel",
     "state": {
      "_dom_classes": [],
      "_model_module": "@jupyter-widgets/controls",
      "_model_module_version": "1.5.0",
      "_model_name": "HTMLModel",
      "_view_count": null,
      "_view_module": "@jupyter-widgets/controls",
      "_view_module_version": "1.5.0",
      "_view_name": "HTMLView",
      "description": "",
      "description_tooltip": null,
      "layout": "IPY_MODEL_7f5bc3bf554e49c9a00183c68c3b5fca",
      "placeholder": "​",
      "style": "IPY_MODEL_b2c1c06bf26846a6ac0aa6cb9426e255",
      "value": " 4422656/? [00:00&lt;00:00, 7413604.85it/s]"
     }
    },
    "c12e9f6828d242a494fbc53d77f89a85": {
     "model_module": "@jupyter-widgets/controls",
     "model_module_version": "1.5.0",
     "model_name": "ProgressStyleModel",
     "state": {
      "_model_module": "@jupyter-widgets/controls",
      "_model_module_version": "1.5.0",
      "_model_name": "ProgressStyleModel",
      "_view_count": null,
      "_view_module": "@jupyter-widgets/base",
      "_view_module_version": "1.2.0",
      "_view_name": "StyleView",
      "bar_color": null,
      "description_width": ""
     }
    },
    "c4ec98c465294a479062c3c31160368d": {
     "model_module": "@jupyter-widgets/controls",
     "model_module_version": "1.5.0",
     "model_name": "ProgressStyleModel",
     "state": {
      "_model_module": "@jupyter-widgets/controls",
      "_model_module_version": "1.5.0",
      "_model_name": "ProgressStyleModel",
      "_view_count": null,
      "_view_module": "@jupyter-widgets/base",
      "_view_module_version": "1.2.0",
      "_view_name": "StyleView",
      "bar_color": null,
      "description_width": ""
     }
    },
    "e5394f885cdf4cd5897fda11d196a22e": {
     "model_module": "@jupyter-widgets/base",
     "model_module_version": "1.2.0",
     "model_name": "LayoutModel",
     "state": {
      "_model_module": "@jupyter-widgets/base",
      "_model_module_version": "1.2.0",
      "_model_name": "LayoutModel",
      "_view_count": null,
      "_view_module": "@jupyter-widgets/base",
      "_view_module_version": "1.2.0",
      "_view_name": "LayoutView",
      "align_content": null,
      "align_items": null,
      "align_self": null,
      "border": null,
      "bottom": null,
      "display": null,
      "flex": null,
      "flex_flow": null,
      "grid_area": null,
      "grid_auto_columns": null,
      "grid_auto_flow": null,
      "grid_auto_rows": null,
      "grid_column": null,
      "grid_gap": null,
      "grid_row": null,
      "grid_template_areas": null,
      "grid_template_columns": null,
      "grid_template_rows": null,
      "height": null,
      "justify_content": null,
      "justify_items": null,
      "left": null,
      "margin": null,
      "max_height": null,
      "max_width": null,
      "min_height": null,
      "min_width": null,
      "object_fit": null,
      "object_position": null,
      "order": null,
      "overflow": null,
      "overflow_x": null,
      "overflow_y": null,
      "padding": null,
      "right": null,
      "top": null,
      "visibility": null,
      "width": null
     }
    },
    "f34d14605849459ab5af730ff9789fae": {
     "model_module": "@jupyter-widgets/controls",
     "model_module_version": "1.5.0",
     "model_name": "ProgressStyleModel",
     "state": {
      "_model_module": "@jupyter-widgets/controls",
      "_model_module_version": "1.5.0",
      "_model_name": "ProgressStyleModel",
      "_view_count": null,
      "_view_module": "@jupyter-widgets/base",
      "_view_module_version": "1.2.0",
      "_view_name": "StyleView",
      "bar_color": null,
      "description_width": ""
     }
    },
    "f723fd17530548b3b7bc4bea9080d3b1": {
     "model_module": "@jupyter-widgets/controls",
     "model_module_version": "1.5.0",
     "model_name": "DescriptionStyleModel",
     "state": {
      "_model_module": "@jupyter-widgets/controls",
      "_model_module_version": "1.5.0",
      "_model_name": "DescriptionStyleModel",
      "_view_count": null,
      "_view_module": "@jupyter-widgets/base",
      "_view_module_version": "1.2.0",
      "_view_name": "StyleView",
      "description_width": ""
     }
    },
    "f81f56c7d7bb4681a2fc18fe2919ea75": {
     "model_module": "@jupyter-widgets/controls",
     "model_module_version": "1.5.0",
     "model_name": "HTMLModel",
     "state": {
      "_dom_classes": [],
      "_model_module": "@jupyter-widgets/controls",
      "_model_module_version": "1.5.0",
      "_model_name": "HTMLModel",
      "_view_count": null,
      "_view_module": "@jupyter-widgets/controls",
      "_view_module_version": "1.5.0",
      "_view_name": "HTMLView",
      "description": "",
      "description_tooltip": null,
      "layout": "IPY_MODEL_a7b8efd43ce0470f8d8f85772b36ce8e",
      "placeholder": "​",
      "style": "IPY_MODEL_8a462f9d00a64006bfa924e18b124999",
      "value": ""
     }
    }
   }
  }
 },
 "nbformat": 4,
 "nbformat_minor": 4
}